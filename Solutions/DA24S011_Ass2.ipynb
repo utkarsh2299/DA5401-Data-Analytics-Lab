{
  "cells": [
    {
      "cell_type": "markdown",
      "id": "187086d7",
      "metadata": {},
      "source": [
        "# Assignment 2 DATA Analytics Laboratory\n",
        "\n",
        "# Utkarsh PAthak  DA24S011"
      ]
    },
    {
      "cell_type": "code",
      "execution_count": 67,
      "id": "192a615f",
      "metadata": {
        "ExecuteTime": {
          "end_time": "2024-08-11T09:59:03.374002Z",
          "start_time": "2024-08-11T09:59:03.369717Z"
        },
        "id": "192a615f"
      },
      "outputs": [],
      "source": [
        "import matplotlib.pyplot as plt\n",
        "import numpy as np\n",
        "import pandas as pd\n",
        "from math import log\n",
        "from sklearn import linear_model\n",
        "\n",
        "#comment below if not using ipython notebook\n",
        "%matplotlib inline"
      ]
    },
    {
      "cell_type": "markdown",
      "id": "547157d9",
      "metadata": {
        "id": "547157d9"
      },
      "source": [
        "## Linear Model Fitting: y1 = mx\n",
        "\n",
        "We are given a Spring dataset against time `x`, and we aim to fit a linear model `y2 = mx` that minimizes the Sum of Squared Errors (SSE). Note that there is no need for the intercept term (`c`), as the trend line (linear model) is observed to pass through the origin.\n",
        "\n",
        "### Tasks\n",
        "\n",
        "1. **OLS Closed Form Solution**:\n",
        "   - Implement the Ordinary Least Squares (OLS) closed form solution using numpy’s matrix operators to find the value of `m` that minimizes SSE.\n",
        "\n",
        "2. **Linear Search**:\n",
        "   - Implement a linear search (the single-parameter search version of grid search) for `m = tan θ`, where θ ∈ [0°, 60°] in steps of 5°.\n",
        "   - Measure the SSE at every choice of θ and create a plot that shows SSE vs θ.\n",
        "   - Report the value of θ that minimizes SSE.\n",
        "\n",
        "3. **Sklearn's LinearRegression**:\n",
        "   - Implement the solution using sklearn’s `LinearRegression` class.\n",
        "\n",
        "### let's load the data into a dataframe\n"
      ]
    },
    {
      "cell_type": "code",
      "execution_count": 68,
      "id": "5ba89874",
      "metadata": {
        "ExecuteTime": {
          "end_time": "2024-08-11T09:59:04.094761Z",
          "start_time": "2024-08-11T09:59:04.085436Z"
        },
        "colab": {
          "base_uri": "https://localhost:8080/",
          "height": 206
        },
        "id": "5ba89874",
        "outputId": "217d2c11-f66d-4b08-8a40-51d2a8cdfa3f"
      },
      "outputs": [
        {
          "data": {
            "application/vnd.google.colaboratory.intrinsic+json": {
              "summary": "{\n  \"name\": \"data\",\n  \"rows\": 226,\n  \"fields\": [\n    {\n      \"column\": \"SpringPos\",\n      \"properties\": {\n        \"dtype\": \"number\",\n        \"std\": 10.704778380380326,\n        \"min\": -19.91,\n        \"max\": 26.1,\n        \"num_unique_values\": 222,\n        \"samples\": [\n          4.75,\n          4.19,\n          24.4\n        ],\n        \"semantic_type\": \"\",\n        \"description\": \"\"\n      }\n    },\n    {\n      \"column\": \"StockPrice\",\n      \"properties\": {\n        \"dtype\": \"number\",\n        \"std\": 7.44744954079808,\n        \"min\": 0.67,\n        \"max\": 30.05,\n        \"num_unique_values\": 216,\n        \"samples\": [\n          28.64,\n          21.04,\n          22.49\n        ],\n        \"semantic_type\": \"\",\n        \"description\": \"\"\n      }\n    }\n  ]\n}",
              "type": "dataframe",
              "variable_name": "data"
            },
            "text/html": [
              "\n",
              "  <div id=\"df-c8e87eec-821c-47c9-890f-9f449553b19e\" class=\"colab-df-container\">\n",
              "    <div>\n",
              "<style scoped>\n",
              "    .dataframe tbody tr th:only-of-type {\n",
              "        vertical-align: middle;\n",
              "    }\n",
              "\n",
              "    .dataframe tbody tr th {\n",
              "        vertical-align: top;\n",
              "    }\n",
              "\n",
              "    .dataframe thead th {\n",
              "        text-align: right;\n",
              "    }\n",
              "</style>\n",
              "<table border=\"1\" class=\"dataframe\">\n",
              "  <thead>\n",
              "    <tr style=\"text-align: right;\">\n",
              "      <th></th>\n",
              "      <th>SpringPos</th>\n",
              "      <th>StockPrice</th>\n",
              "    </tr>\n",
              "  </thead>\n",
              "  <tbody>\n",
              "    <tr>\n",
              "      <th>0</th>\n",
              "      <td>2.27</td>\n",
              "      <td>3.48</td>\n",
              "    </tr>\n",
              "    <tr>\n",
              "      <th>1</th>\n",
              "      <td>6.38</td>\n",
              "      <td>2.99</td>\n",
              "    </tr>\n",
              "    <tr>\n",
              "      <th>2</th>\n",
              "      <td>8.61</td>\n",
              "      <td>5.86</td>\n",
              "    </tr>\n",
              "    <tr>\n",
              "      <th>3</th>\n",
              "      <td>8.65</td>\n",
              "      <td>1.79</td>\n",
              "    </tr>\n",
              "    <tr>\n",
              "      <th>4</th>\n",
              "      <td>13.17</td>\n",
              "      <td>3.47</td>\n",
              "    </tr>\n",
              "  </tbody>\n",
              "</table>\n",
              "</div>\n",
              "    <div class=\"colab-df-buttons\">\n",
              "\n",
              "  <div class=\"colab-df-container\">\n",
              "    <button class=\"colab-df-convert\" onclick=\"convertToInteractive('df-c8e87eec-821c-47c9-890f-9f449553b19e')\"\n",
              "            title=\"Convert this dataframe to an interactive table.\"\n",
              "            style=\"display:none;\">\n",
              "\n",
              "  <svg xmlns=\"http://www.w3.org/2000/svg\" height=\"24px\" viewBox=\"0 -960 960 960\">\n",
              "    <path d=\"M120-120v-720h720v720H120Zm60-500h600v-160H180v160Zm220 220h160v-160H400v160Zm0 220h160v-160H400v160ZM180-400h160v-160H180v160Zm440 0h160v-160H620v160ZM180-180h160v-160H180v160Zm440 0h160v-160H620v160Z\"/>\n",
              "  </svg>\n",
              "    </button>\n",
              "\n",
              "  <style>\n",
              "    .colab-df-container {\n",
              "      display:flex;\n",
              "      gap: 12px;\n",
              "    }\n",
              "\n",
              "    .colab-df-convert {\n",
              "      background-color: #E8F0FE;\n",
              "      border: none;\n",
              "      border-radius: 50%;\n",
              "      cursor: pointer;\n",
              "      display: none;\n",
              "      fill: #1967D2;\n",
              "      height: 32px;\n",
              "      padding: 0 0 0 0;\n",
              "      width: 32px;\n",
              "    }\n",
              "\n",
              "    .colab-df-convert:hover {\n",
              "      background-color: #E2EBFA;\n",
              "      box-shadow: 0px 1px 2px rgba(60, 64, 67, 0.3), 0px 1px 3px 1px rgba(60, 64, 67, 0.15);\n",
              "      fill: #174EA6;\n",
              "    }\n",
              "\n",
              "    .colab-df-buttons div {\n",
              "      margin-bottom: 4px;\n",
              "    }\n",
              "\n",
              "    [theme=dark] .colab-df-convert {\n",
              "      background-color: #3B4455;\n",
              "      fill: #D2E3FC;\n",
              "    }\n",
              "\n",
              "    [theme=dark] .colab-df-convert:hover {\n",
              "      background-color: #434B5C;\n",
              "      box-shadow: 0px 1px 3px 1px rgba(0, 0, 0, 0.15);\n",
              "      filter: drop-shadow(0px 1px 2px rgba(0, 0, 0, 0.3));\n",
              "      fill: #FFFFFF;\n",
              "    }\n",
              "  </style>\n",
              "\n",
              "    <script>\n",
              "      const buttonEl =\n",
              "        document.querySelector('#df-c8e87eec-821c-47c9-890f-9f449553b19e button.colab-df-convert');\n",
              "      buttonEl.style.display =\n",
              "        google.colab.kernel.accessAllowed ? 'block' : 'none';\n",
              "\n",
              "      async function convertToInteractive(key) {\n",
              "        const element = document.querySelector('#df-c8e87eec-821c-47c9-890f-9f449553b19e');\n",
              "        const dataTable =\n",
              "          await google.colab.kernel.invokeFunction('convertToInteractive',\n",
              "                                                    [key], {});\n",
              "        if (!dataTable) return;\n",
              "\n",
              "        const docLinkHtml = 'Like what you see? Visit the ' +\n",
              "          '<a target=\"_blank\" href=https://colab.research.google.com/notebooks/data_table.ipynb>data table notebook</a>'\n",
              "          + ' to learn more about interactive tables.';\n",
              "        element.innerHTML = '';\n",
              "        dataTable['output_type'] = 'display_data';\n",
              "        await google.colab.output.renderOutput(dataTable, element);\n",
              "        const docLink = document.createElement('div');\n",
              "        docLink.innerHTML = docLinkHtml;\n",
              "        element.appendChild(docLink);\n",
              "      }\n",
              "    </script>\n",
              "  </div>\n",
              "\n",
              "\n",
              "<div id=\"df-67376020-3129-4411-9c73-8d2817176a27\">\n",
              "  <button class=\"colab-df-quickchart\" onclick=\"quickchart('df-67376020-3129-4411-9c73-8d2817176a27')\"\n",
              "            title=\"Suggest charts\"\n",
              "            style=\"display:none;\">\n",
              "\n",
              "<svg xmlns=\"http://www.w3.org/2000/svg\" height=\"24px\"viewBox=\"0 0 24 24\"\n",
              "     width=\"24px\">\n",
              "    <g>\n",
              "        <path d=\"M19 3H5c-1.1 0-2 .9-2 2v14c0 1.1.9 2 2 2h14c1.1 0 2-.9 2-2V5c0-1.1-.9-2-2-2zM9 17H7v-7h2v7zm4 0h-2V7h2v10zm4 0h-2v-4h2v4z\"/>\n",
              "    </g>\n",
              "</svg>\n",
              "  </button>\n",
              "\n",
              "<style>\n",
              "  .colab-df-quickchart {\n",
              "      --bg-color: #E8F0FE;\n",
              "      --fill-color: #1967D2;\n",
              "      --hover-bg-color: #E2EBFA;\n",
              "      --hover-fill-color: #174EA6;\n",
              "      --disabled-fill-color: #AAA;\n",
              "      --disabled-bg-color: #DDD;\n",
              "  }\n",
              "\n",
              "  [theme=dark] .colab-df-quickchart {\n",
              "      --bg-color: #3B4455;\n",
              "      --fill-color: #D2E3FC;\n",
              "      --hover-bg-color: #434B5C;\n",
              "      --hover-fill-color: #FFFFFF;\n",
              "      --disabled-bg-color: #3B4455;\n",
              "      --disabled-fill-color: #666;\n",
              "  }\n",
              "\n",
              "  .colab-df-quickchart {\n",
              "    background-color: var(--bg-color);\n",
              "    border: none;\n",
              "    border-radius: 50%;\n",
              "    cursor: pointer;\n",
              "    display: none;\n",
              "    fill: var(--fill-color);\n",
              "    height: 32px;\n",
              "    padding: 0;\n",
              "    width: 32px;\n",
              "  }\n",
              "\n",
              "  .colab-df-quickchart:hover {\n",
              "    background-color: var(--hover-bg-color);\n",
              "    box-shadow: 0 1px 2px rgba(60, 64, 67, 0.3), 0 1px 3px 1px rgba(60, 64, 67, 0.15);\n",
              "    fill: var(--button-hover-fill-color);\n",
              "  }\n",
              "\n",
              "  .colab-df-quickchart-complete:disabled,\n",
              "  .colab-df-quickchart-complete:disabled:hover {\n",
              "    background-color: var(--disabled-bg-color);\n",
              "    fill: var(--disabled-fill-color);\n",
              "    box-shadow: none;\n",
              "  }\n",
              "\n",
              "  .colab-df-spinner {\n",
              "    border: 2px solid var(--fill-color);\n",
              "    border-color: transparent;\n",
              "    border-bottom-color: var(--fill-color);\n",
              "    animation:\n",
              "      spin 1s steps(1) infinite;\n",
              "  }\n",
              "\n",
              "  @keyframes spin {\n",
              "    0% {\n",
              "      border-color: transparent;\n",
              "      border-bottom-color: var(--fill-color);\n",
              "      border-left-color: var(--fill-color);\n",
              "    }\n",
              "    20% {\n",
              "      border-color: transparent;\n",
              "      border-left-color: var(--fill-color);\n",
              "      border-top-color: var(--fill-color);\n",
              "    }\n",
              "    30% {\n",
              "      border-color: transparent;\n",
              "      border-left-color: var(--fill-color);\n",
              "      border-top-color: var(--fill-color);\n",
              "      border-right-color: var(--fill-color);\n",
              "    }\n",
              "    40% {\n",
              "      border-color: transparent;\n",
              "      border-right-color: var(--fill-color);\n",
              "      border-top-color: var(--fill-color);\n",
              "    }\n",
              "    60% {\n",
              "      border-color: transparent;\n",
              "      border-right-color: var(--fill-color);\n",
              "    }\n",
              "    80% {\n",
              "      border-color: transparent;\n",
              "      border-right-color: var(--fill-color);\n",
              "      border-bottom-color: var(--fill-color);\n",
              "    }\n",
              "    90% {\n",
              "      border-color: transparent;\n",
              "      border-bottom-color: var(--fill-color);\n",
              "    }\n",
              "  }\n",
              "</style>\n",
              "\n",
              "  <script>\n",
              "    async function quickchart(key) {\n",
              "      const quickchartButtonEl =\n",
              "        document.querySelector('#' + key + ' button');\n",
              "      quickchartButtonEl.disabled = true;  // To prevent multiple clicks.\n",
              "      quickchartButtonEl.classList.add('colab-df-spinner');\n",
              "      try {\n",
              "        const charts = await google.colab.kernel.invokeFunction(\n",
              "            'suggestCharts', [key], {});\n",
              "      } catch (error) {\n",
              "        console.error('Error during call to suggestCharts:', error);\n",
              "      }\n",
              "      quickchartButtonEl.classList.remove('colab-df-spinner');\n",
              "      quickchartButtonEl.classList.add('colab-df-quickchart-complete');\n",
              "    }\n",
              "    (() => {\n",
              "      let quickchartButtonEl =\n",
              "        document.querySelector('#df-67376020-3129-4411-9c73-8d2817176a27 button');\n",
              "      quickchartButtonEl.style.display =\n",
              "        google.colab.kernel.accessAllowed ? 'block' : 'none';\n",
              "    })();\n",
              "  </script>\n",
              "</div>\n",
              "\n",
              "    </div>\n",
              "  </div>\n"
            ],
            "text/plain": [
              "   SpringPos  StockPrice\n",
              "0       2.27        3.48\n",
              "1       6.38        2.99\n",
              "2       8.61        5.86\n",
              "3       8.65        1.79\n",
              "4      13.17        3.47"
            ]
          },
          "execution_count": 68,
          "metadata": {},
          "output_type": "execute_result"
        }
      ],
      "source": [
        "data  = pd.read_csv('Assignment2.data', sep='\\t')\n",
        "data.head()"
      ]
    },
    {
      "cell_type": "code",
      "execution_count": 69,
      "id": "6330a952",
      "metadata": {
        "ExecuteTime": {
          "end_time": "2024-08-11T09:59:04.838012Z",
          "start_time": "2024-08-11T09:59:04.825597Z"
        },
        "colab": {
          "base_uri": "https://localhost:8080/",
          "height": 300
        },
        "id": "6330a952",
        "outputId": "c7586ad8-28b6-46c4-dc64-2bbf9fdf807b"
      },
      "outputs": [
        {
          "data": {
            "application/vnd.google.colaboratory.intrinsic+json": {
              "summary": "{\n  \"name\": \"data\",\n  \"rows\": 8,\n  \"fields\": [\n    {\n      \"column\": \"SpringPos\",\n      \"properties\": {\n        \"dtype\": \"number\",\n        \"std\": 79.38094809396263,\n        \"min\": -19.91,\n        \"max\": 226.0,\n        \"num_unique_values\": 8,\n        \"samples\": [\n          3.785221238938053,\n          4.195,\n          226.0\n        ],\n        \"semantic_type\": \"\",\n        \"description\": \"\"\n      }\n    },\n    {\n      \"column\": \"StockPrice\",\n      \"properties\": {\n        \"dtype\": \"number\",\n        \"std\": 75.65106201996998,\n        \"min\": 0.67,\n        \"max\": 226.0,\n        \"num_unique_values\": 8,\n        \"samples\": [\n          14.187743362831858,\n          13.969999999999999,\n          226.0\n        ],\n        \"semantic_type\": \"\",\n        \"description\": \"\"\n      }\n    }\n  ]\n}",
              "type": "dataframe"
            },
            "text/html": [
              "\n",
              "  <div id=\"df-036eae6e-9111-4f6f-945f-eca0d722c97a\" class=\"colab-df-container\">\n",
              "    <div>\n",
              "<style scoped>\n",
              "    .dataframe tbody tr th:only-of-type {\n",
              "        vertical-align: middle;\n",
              "    }\n",
              "\n",
              "    .dataframe tbody tr th {\n",
              "        vertical-align: top;\n",
              "    }\n",
              "\n",
              "    .dataframe thead th {\n",
              "        text-align: right;\n",
              "    }\n",
              "</style>\n",
              "<table border=\"1\" class=\"dataframe\">\n",
              "  <thead>\n",
              "    <tr style=\"text-align: right;\">\n",
              "      <th></th>\n",
              "      <th>SpringPos</th>\n",
              "      <th>StockPrice</th>\n",
              "    </tr>\n",
              "  </thead>\n",
              "  <tbody>\n",
              "    <tr>\n",
              "      <th>count</th>\n",
              "      <td>226.000000</td>\n",
              "      <td>226.000000</td>\n",
              "    </tr>\n",
              "    <tr>\n",
              "      <th>mean</th>\n",
              "      <td>3.785221</td>\n",
              "      <td>14.187743</td>\n",
              "    </tr>\n",
              "    <tr>\n",
              "      <th>std</th>\n",
              "      <td>10.704778</td>\n",
              "      <td>7.447450</td>\n",
              "    </tr>\n",
              "    <tr>\n",
              "      <th>min</th>\n",
              "      <td>-19.910000</td>\n",
              "      <td>0.670000</td>\n",
              "    </tr>\n",
              "    <tr>\n",
              "      <th>25%</th>\n",
              "      <td>-3.960000</td>\n",
              "      <td>8.355000</td>\n",
              "    </tr>\n",
              "    <tr>\n",
              "      <th>50%</th>\n",
              "      <td>4.195000</td>\n",
              "      <td>13.970000</td>\n",
              "    </tr>\n",
              "    <tr>\n",
              "      <th>75%</th>\n",
              "      <td>11.295000</td>\n",
              "      <td>19.632500</td>\n",
              "    </tr>\n",
              "    <tr>\n",
              "      <th>max</th>\n",
              "      <td>26.100000</td>\n",
              "      <td>30.050000</td>\n",
              "    </tr>\n",
              "  </tbody>\n",
              "</table>\n",
              "</div>\n",
              "    <div class=\"colab-df-buttons\">\n",
              "\n",
              "  <div class=\"colab-df-container\">\n",
              "    <button class=\"colab-df-convert\" onclick=\"convertToInteractive('df-036eae6e-9111-4f6f-945f-eca0d722c97a')\"\n",
              "            title=\"Convert this dataframe to an interactive table.\"\n",
              "            style=\"display:none;\">\n",
              "\n",
              "  <svg xmlns=\"http://www.w3.org/2000/svg\" height=\"24px\" viewBox=\"0 -960 960 960\">\n",
              "    <path d=\"M120-120v-720h720v720H120Zm60-500h600v-160H180v160Zm220 220h160v-160H400v160Zm0 220h160v-160H400v160ZM180-400h160v-160H180v160Zm440 0h160v-160H620v160ZM180-180h160v-160H180v160Zm440 0h160v-160H620v160Z\"/>\n",
              "  </svg>\n",
              "    </button>\n",
              "\n",
              "  <style>\n",
              "    .colab-df-container {\n",
              "      display:flex;\n",
              "      gap: 12px;\n",
              "    }\n",
              "\n",
              "    .colab-df-convert {\n",
              "      background-color: #E8F0FE;\n",
              "      border: none;\n",
              "      border-radius: 50%;\n",
              "      cursor: pointer;\n",
              "      display: none;\n",
              "      fill: #1967D2;\n",
              "      height: 32px;\n",
              "      padding: 0 0 0 0;\n",
              "      width: 32px;\n",
              "    }\n",
              "\n",
              "    .colab-df-convert:hover {\n",
              "      background-color: #E2EBFA;\n",
              "      box-shadow: 0px 1px 2px rgba(60, 64, 67, 0.3), 0px 1px 3px 1px rgba(60, 64, 67, 0.15);\n",
              "      fill: #174EA6;\n",
              "    }\n",
              "\n",
              "    .colab-df-buttons div {\n",
              "      margin-bottom: 4px;\n",
              "    }\n",
              "\n",
              "    [theme=dark] .colab-df-convert {\n",
              "      background-color: #3B4455;\n",
              "      fill: #D2E3FC;\n",
              "    }\n",
              "\n",
              "    [theme=dark] .colab-df-convert:hover {\n",
              "      background-color: #434B5C;\n",
              "      box-shadow: 0px 1px 3px 1px rgba(0, 0, 0, 0.15);\n",
              "      filter: drop-shadow(0px 1px 2px rgba(0, 0, 0, 0.3));\n",
              "      fill: #FFFFFF;\n",
              "    }\n",
              "  </style>\n",
              "\n",
              "    <script>\n",
              "      const buttonEl =\n",
              "        document.querySelector('#df-036eae6e-9111-4f6f-945f-eca0d722c97a button.colab-df-convert');\n",
              "      buttonEl.style.display =\n",
              "        google.colab.kernel.accessAllowed ? 'block' : 'none';\n",
              "\n",
              "      async function convertToInteractive(key) {\n",
              "        const element = document.querySelector('#df-036eae6e-9111-4f6f-945f-eca0d722c97a');\n",
              "        const dataTable =\n",
              "          await google.colab.kernel.invokeFunction('convertToInteractive',\n",
              "                                                    [key], {});\n",
              "        if (!dataTable) return;\n",
              "\n",
              "        const docLinkHtml = 'Like what you see? Visit the ' +\n",
              "          '<a target=\"_blank\" href=https://colab.research.google.com/notebooks/data_table.ipynb>data table notebook</a>'\n",
              "          + ' to learn more about interactive tables.';\n",
              "        element.innerHTML = '';\n",
              "        dataTable['output_type'] = 'display_data';\n",
              "        await google.colab.output.renderOutput(dataTable, element);\n",
              "        const docLink = document.createElement('div');\n",
              "        docLink.innerHTML = docLinkHtml;\n",
              "        element.appendChild(docLink);\n",
              "      }\n",
              "    </script>\n",
              "  </div>\n",
              "\n",
              "\n",
              "<div id=\"df-23a02b52-006d-4c2d-aa76-a3f4c39af913\">\n",
              "  <button class=\"colab-df-quickchart\" onclick=\"quickchart('df-23a02b52-006d-4c2d-aa76-a3f4c39af913')\"\n",
              "            title=\"Suggest charts\"\n",
              "            style=\"display:none;\">\n",
              "\n",
              "<svg xmlns=\"http://www.w3.org/2000/svg\" height=\"24px\"viewBox=\"0 0 24 24\"\n",
              "     width=\"24px\">\n",
              "    <g>\n",
              "        <path d=\"M19 3H5c-1.1 0-2 .9-2 2v14c0 1.1.9 2 2 2h14c1.1 0 2-.9 2-2V5c0-1.1-.9-2-2-2zM9 17H7v-7h2v7zm4 0h-2V7h2v10zm4 0h-2v-4h2v4z\"/>\n",
              "    </g>\n",
              "</svg>\n",
              "  </button>\n",
              "\n",
              "<style>\n",
              "  .colab-df-quickchart {\n",
              "      --bg-color: #E8F0FE;\n",
              "      --fill-color: #1967D2;\n",
              "      --hover-bg-color: #E2EBFA;\n",
              "      --hover-fill-color: #174EA6;\n",
              "      --disabled-fill-color: #AAA;\n",
              "      --disabled-bg-color: #DDD;\n",
              "  }\n",
              "\n",
              "  [theme=dark] .colab-df-quickchart {\n",
              "      --bg-color: #3B4455;\n",
              "      --fill-color: #D2E3FC;\n",
              "      --hover-bg-color: #434B5C;\n",
              "      --hover-fill-color: #FFFFFF;\n",
              "      --disabled-bg-color: #3B4455;\n",
              "      --disabled-fill-color: #666;\n",
              "  }\n",
              "\n",
              "  .colab-df-quickchart {\n",
              "    background-color: var(--bg-color);\n",
              "    border: none;\n",
              "    border-radius: 50%;\n",
              "    cursor: pointer;\n",
              "    display: none;\n",
              "    fill: var(--fill-color);\n",
              "    height: 32px;\n",
              "    padding: 0;\n",
              "    width: 32px;\n",
              "  }\n",
              "\n",
              "  .colab-df-quickchart:hover {\n",
              "    background-color: var(--hover-bg-color);\n",
              "    box-shadow: 0 1px 2px rgba(60, 64, 67, 0.3), 0 1px 3px 1px rgba(60, 64, 67, 0.15);\n",
              "    fill: var(--button-hover-fill-color);\n",
              "  }\n",
              "\n",
              "  .colab-df-quickchart-complete:disabled,\n",
              "  .colab-df-quickchart-complete:disabled:hover {\n",
              "    background-color: var(--disabled-bg-color);\n",
              "    fill: var(--disabled-fill-color);\n",
              "    box-shadow: none;\n",
              "  }\n",
              "\n",
              "  .colab-df-spinner {\n",
              "    border: 2px solid var(--fill-color);\n",
              "    border-color: transparent;\n",
              "    border-bottom-color: var(--fill-color);\n",
              "    animation:\n",
              "      spin 1s steps(1) infinite;\n",
              "  }\n",
              "\n",
              "  @keyframes spin {\n",
              "    0% {\n",
              "      border-color: transparent;\n",
              "      border-bottom-color: var(--fill-color);\n",
              "      border-left-color: var(--fill-color);\n",
              "    }\n",
              "    20% {\n",
              "      border-color: transparent;\n",
              "      border-left-color: var(--fill-color);\n",
              "      border-top-color: var(--fill-color);\n",
              "    }\n",
              "    30% {\n",
              "      border-color: transparent;\n",
              "      border-left-color: var(--fill-color);\n",
              "      border-top-color: var(--fill-color);\n",
              "      border-right-color: var(--fill-color);\n",
              "    }\n",
              "    40% {\n",
              "      border-color: transparent;\n",
              "      border-right-color: var(--fill-color);\n",
              "      border-top-color: var(--fill-color);\n",
              "    }\n",
              "    60% {\n",
              "      border-color: transparent;\n",
              "      border-right-color: var(--fill-color);\n",
              "    }\n",
              "    80% {\n",
              "      border-color: transparent;\n",
              "      border-right-color: var(--fill-color);\n",
              "      border-bottom-color: var(--fill-color);\n",
              "    }\n",
              "    90% {\n",
              "      border-color: transparent;\n",
              "      border-bottom-color: var(--fill-color);\n",
              "    }\n",
              "  }\n",
              "</style>\n",
              "\n",
              "  <script>\n",
              "    async function quickchart(key) {\n",
              "      const quickchartButtonEl =\n",
              "        document.querySelector('#' + key + ' button');\n",
              "      quickchartButtonEl.disabled = true;  // To prevent multiple clicks.\n",
              "      quickchartButtonEl.classList.add('colab-df-spinner');\n",
              "      try {\n",
              "        const charts = await google.colab.kernel.invokeFunction(\n",
              "            'suggestCharts', [key], {});\n",
              "      } catch (error) {\n",
              "        console.error('Error during call to suggestCharts:', error);\n",
              "      }\n",
              "      quickchartButtonEl.classList.remove('colab-df-spinner');\n",
              "      quickchartButtonEl.classList.add('colab-df-quickchart-complete');\n",
              "    }\n",
              "    (() => {\n",
              "      let quickchartButtonEl =\n",
              "        document.querySelector('#df-23a02b52-006d-4c2d-aa76-a3f4c39af913 button');\n",
              "      quickchartButtonEl.style.display =\n",
              "        google.colab.kernel.accessAllowed ? 'block' : 'none';\n",
              "    })();\n",
              "  </script>\n",
              "</div>\n",
              "\n",
              "    </div>\n",
              "  </div>\n"
            ],
            "text/plain": [
              "        SpringPos  StockPrice\n",
              "count  226.000000  226.000000\n",
              "mean     3.785221   14.187743\n",
              "std     10.704778    7.447450\n",
              "min    -19.910000    0.670000\n",
              "25%     -3.960000    8.355000\n",
              "50%      4.195000   13.970000\n",
              "75%     11.295000   19.632500\n",
              "max     26.100000   30.050000"
            ]
          },
          "execution_count": 69,
          "metadata": {},
          "output_type": "execute_result"
        }
      ],
      "source": [
        "data.describe()"
      ]
    },
    {
      "cell_type": "code",
      "execution_count": 70,
      "id": "2fa04809",
      "metadata": {
        "ExecuteTime": {
          "end_time": "2024-08-11T09:59:05.454175Z",
          "start_time": "2024-08-11T09:59:05.341711Z"
        },
        "colab": {
          "base_uri": "https://localhost:8080/",
          "height": 515
        },
        "id": "2fa04809",
        "outputId": "14cd5d14-788e-47f3-d61a-c3318c02925f"
      },
      "outputs": [
        {
          "data": {
            "image/png": "[encoded data removed]",
            "text/plain": [
              "<Figure size 1000x500 with 2 Axes>"
            ]
          },
          "metadata": {},
          "output_type": "display_data"
        }
      ],
      "source": [
        "fig, (ax1, ax2) = plt.subplots(2, 1)\n",
        "fig.suptitle('Two Cyber Physical Systems')\n",
        "fig.set_figwidth(10)\n",
        "fig.set_figheight(5)\n",
        "\n",
        "ax1.plot(data.SpringPos, 'r+')\n",
        "ax1.set_ylabel('Spring Position')\n",
        "ax2.plot(data.StockPrice, 'b.')\n",
        "ax2.set_ylabel('Stock Price')\n",
        "ax2.set_xlabel('time')\n",
        "\n",
        "plt.show()"
      ]
    },
    {
      "cell_type": "markdown",
      "id": "ab8f28dc",
      "metadata": {
        "id": "ab8f28dc"
      },
      "source": [
        "## Fit a linear model on the Spring dataset\n",
        "\n",
        "---\n",
        "\n"
      ]
    },
    {
      "cell_type": "code",
      "execution_count": 70,
      "id": "IPu5C62-SlqF",
      "metadata": {
        "id": "IPu5C62-SlqF"
      },
      "outputs": [],
      "source": []
    },
    {
      "cell_type": "code",
      "execution_count": 71,
      "id": "ea0c056f",
      "metadata": {
        "ExecuteTime": {
          "end_time": "2024-08-11T09:59:06.592610Z",
          "start_time": "2024-08-11T09:59:06.585736Z"
        },
        "colab": {
          "base_uri": "https://localhost:8080/",
          "height": 206
        },
        "id": "ea0c056f",
        "outputId": "e359047e-ab0d-420a-a962-57ff0ff022bf"
      },
      "outputs": [
        {
          "data": {
            "application/vnd.google.colaboratory.intrinsic+json": {
              "summary": "{\n  \"name\": \"y2\",\n  \"rows\": 226,\n  \"fields\": [\n    {\n      \"column\": \"x\",\n      \"properties\": {\n        \"dtype\": \"number\",\n        \"std\": 65,\n        \"min\": 0,\n        \"max\": 225,\n        \"num_unique_values\": 226,\n        \"samples\": [\n          9,\n          184,\n          120\n        ],\n        \"semantic_type\": \"\",\n        \"description\": \"\"\n      }\n    },\n    {\n      \"column\": \"y\",\n      \"properties\": {\n        \"dtype\": \"number\",\n        \"std\": 10.704778380380326,\n        \"min\": -19.91,\n        \"max\": 26.1,\n        \"num_unique_values\": 222,\n        \"samples\": [\n          4.75,\n          4.19,\n          24.4\n        ],\n        \"semantic_type\": \"\",\n        \"description\": \"\"\n      }\n    }\n  ]\n}",
              "type": "dataframe",
              "variable_name": "y2"
            },
            "text/html": [
              "\n",
              "  <div id=\"df-50ece79c-b1b1-4ada-8c7e-b45491ebbf24\" class=\"colab-df-container\">\n",
              "    <div>\n",
              "<style scoped>\n",
              "    .dataframe tbody tr th:only-of-type {\n",
              "        vertical-align: middle;\n",
              "    }\n",
              "\n",
              "    .dataframe tbody tr th {\n",
              "        vertical-align: top;\n",
              "    }\n",
              "\n",
              "    .dataframe thead th {\n",
              "        text-align: right;\n",
              "    }\n",
              "</style>\n",
              "<table border=\"1\" class=\"dataframe\">\n",
              "  <thead>\n",
              "    <tr style=\"text-align: right;\">\n",
              "      <th></th>\n",
              "      <th>x</th>\n",
              "      <th>y</th>\n",
              "    </tr>\n",
              "  </thead>\n",
              "  <tbody>\n",
              "    <tr>\n",
              "      <th>0</th>\n",
              "      <td>0</td>\n",
              "      <td>2.27</td>\n",
              "    </tr>\n",
              "    <tr>\n",
              "      <th>1</th>\n",
              "      <td>1</td>\n",
              "      <td>6.38</td>\n",
              "    </tr>\n",
              "    <tr>\n",
              "      <th>2</th>\n",
              "      <td>2</td>\n",
              "      <td>8.61</td>\n",
              "    </tr>\n",
              "    <tr>\n",
              "      <th>3</th>\n",
              "      <td>3</td>\n",
              "      <td>8.65</td>\n",
              "    </tr>\n",
              "    <tr>\n",
              "      <th>4</th>\n",
              "      <td>4</td>\n",
              "      <td>13.17</td>\n",
              "    </tr>\n",
              "  </tbody>\n",
              "</table>\n",
              "</div>\n",
              "    <div class=\"colab-df-buttons\">\n",
              "\n",
              "  <div class=\"colab-df-container\">\n",
              "    <button class=\"colab-df-convert\" onclick=\"convertToInteractive('df-50ece79c-b1b1-4ada-8c7e-b45491ebbf24')\"\n",
              "            title=\"Convert this dataframe to an interactive table.\"\n",
              "            style=\"display:none;\">\n",
              "\n",
              "  <svg xmlns=\"http://www.w3.org/2000/svg\" height=\"24px\" viewBox=\"0 -960 960 960\">\n",
              "    <path d=\"M120-120v-720h720v720H120Zm60-500h600v-160H180v160Zm220 220h160v-160H400v160Zm0 220h160v-160H400v160ZM180-400h160v-160H180v160Zm440 0h160v-160H620v160ZM180-180h160v-160H180v160Zm440 0h160v-160H620v160Z\"/>\n",
              "  </svg>\n",
              "    </button>\n",
              "\n",
              "  <style>\n",
              "    .colab-df-container {\n",
              "      display:flex;\n",
              "      gap: 12px;\n",
              "    }\n",
              "\n",
              "    .colab-df-convert {\n",
              "      background-color: #E8F0FE;\n",
              "      border: none;\n",
              "      border-radius: 50%;\n",
              "      cursor: pointer;\n",
              "      display: none;\n",
              "      fill: #1967D2;\n",
              "      height: 32px;\n",
              "      padding: 0 0 0 0;\n",
              "      width: 32px;\n",
              "    }\n",
              "\n",
              "    .colab-df-convert:hover {\n",
              "      background-color: #E2EBFA;\n",
              "      box-shadow: 0px 1px 2px rgba(60, 64, 67, 0.3), 0px 1px 3px 1px rgba(60, 64, 67, 0.15);\n",
              "      fill: #174EA6;\n",
              "    }\n",
              "\n",
              "    .colab-df-buttons div {\n",
              "      margin-bottom: 4px;\n",
              "    }\n",
              "\n",
              "    [theme=dark] .colab-df-convert {\n",
              "      background-color: #3B4455;\n",
              "      fill: #D2E3FC;\n",
              "    }\n",
              "\n",
              "    [theme=dark] .colab-df-convert:hover {\n",
              "      background-color: #434B5C;\n",
              "      box-shadow: 0px 1px 3px 1px rgba(0, 0, 0, 0.15);\n",
              "      filter: drop-shadow(0px 1px 2px rgba(0, 0, 0, 0.3));\n",
              "      fill: #FFFFFF;\n",
              "    }\n",
              "  </style>\n",
              "\n",
              "    <script>\n",
              "      const buttonEl =\n",
              "        document.querySelector('#df-50ece79c-b1b1-4ada-8c7e-b45491ebbf24 button.colab-df-convert');\n",
              "      buttonEl.style.display =\n",
              "        google.colab.kernel.accessAllowed ? 'block' : 'none';\n",
              "\n",
              "      async function convertToInteractive(key) {\n",
              "        const element = document.querySelector('#df-50ece79c-b1b1-4ada-8c7e-b45491ebbf24');\n",
              "        const dataTable =\n",
              "          await google.colab.kernel.invokeFunction('convertToInteractive',\n",
              "                                                    [key], {});\n",
              "        if (!dataTable) return;\n",
              "\n",
              "        const docLinkHtml = 'Like what you see? Visit the ' +\n",
              "          '<a target=\"_blank\" href=https://colab.research.google.com/notebooks/data_table.ipynb>data table notebook</a>'\n",
              "          + ' to learn more about interactive tables.';\n",
              "        element.innerHTML = '';\n",
              "        dataTable['output_type'] = 'display_data';\n",
              "        await google.colab.output.renderOutput(dataTable, element);\n",
              "        const docLink = document.createElement('div');\n",
              "        docLink.innerHTML = docLinkHtml;\n",
              "        element.appendChild(docLink);\n",
              "      }\n",
              "    </script>\n",
              "  </div>\n",
              "\n",
              "\n",
              "<div id=\"df-52746b99-d2bb-4826-98b0-e18dd8741c1e\">\n",
              "  <button class=\"colab-df-quickchart\" onclick=\"quickchart('df-52746b99-d2bb-4826-98b0-e18dd8741c1e')\"\n",
              "            title=\"Suggest charts\"\n",
              "            style=\"display:none;\">\n",
              "\n",
              "<svg xmlns=\"http://www.w3.org/2000/svg\" height=\"24px\"viewBox=\"0 0 24 24\"\n",
              "     width=\"24px\">\n",
              "    <g>\n",
              "        <path d=\"M19 3H5c-1.1 0-2 .9-2 2v14c0 1.1.9 2 2 2h14c1.1 0 2-.9 2-2V5c0-1.1-.9-2-2-2zM9 17H7v-7h2v7zm4 0h-2V7h2v10zm4 0h-2v-4h2v4z\"/>\n",
              "    </g>\n",
              "</svg>\n",
              "  </button>\n",
              "\n",
              "<style>\n",
              "  .colab-df-quickchart {\n",
              "      --bg-color: #E8F0FE;\n",
              "      --fill-color: #1967D2;\n",
              "      --hover-bg-color: #E2EBFA;\n",
              "      --hover-fill-color: #174EA6;\n",
              "      --disabled-fill-color: #AAA;\n",
              "      --disabled-bg-color: #DDD;\n",
              "  }\n",
              "\n",
              "  [theme=dark] .colab-df-quickchart {\n",
              "      --bg-color: #3B4455;\n",
              "      --fill-color: #D2E3FC;\n",
              "      --hover-bg-color: #434B5C;\n",
              "      --hover-fill-color: #FFFFFF;\n",
              "      --disabled-bg-color: #3B4455;\n",
              "      --disabled-fill-color: #666;\n",
              "  }\n",
              "\n",
              "  .colab-df-quickchart {\n",
              "    background-color: var(--bg-color);\n",
              "    border: none;\n",
              "    border-radius: 50%;\n",
              "    cursor: pointer;\n",
              "    display: none;\n",
              "    fill: var(--fill-color);\n",
              "    height: 32px;\n",
              "    padding: 0;\n",
              "    width: 32px;\n",
              "  }\n",
              "\n",
              "  .colab-df-quickchart:hover {\n",
              "    background-color: var(--hover-bg-color);\n",
              "    box-shadow: 0 1px 2px rgba(60, 64, 67, 0.3), 0 1px 3px 1px rgba(60, 64, 67, 0.15);\n",
              "    fill: var(--button-hover-fill-color);\n",
              "  }\n",
              "\n",
              "  .colab-df-quickchart-complete:disabled,\n",
              "  .colab-df-quickchart-complete:disabled:hover {\n",
              "    background-color: var(--disabled-bg-color);\n",
              "    fill: var(--disabled-fill-color);\n",
              "    box-shadow: none;\n",
              "  }\n",
              "\n",
              "  .colab-df-spinner {\n",
              "    border: 2px solid var(--fill-color);\n",
              "    border-color: transparent;\n",
              "    border-bottom-color: var(--fill-color);\n",
              "    animation:\n",
              "      spin 1s steps(1) infinite;\n",
              "  }\n",
              "\n",
              "  @keyframes spin {\n",
              "    0% {\n",
              "      border-color: transparent;\n",
              "      border-bottom-color: var(--fill-color);\n",
              "      border-left-color: var(--fill-color);\n",
              "    }\n",
              "    20% {\n",
              "      border-color: transparent;\n",
              "      border-left-color: var(--fill-color);\n",
              "      border-top-color: var(--fill-color);\n",
              "    }\n",
              "    30% {\n",
              "      border-color: transparent;\n",
              "      border-left-color: var(--fill-color);\n",
              "      border-top-color: var(--fill-color);\n",
              "      border-right-color: var(--fill-color);\n",
              "    }\n",
              "    40% {\n",
              "      border-color: transparent;\n",
              "      border-right-color: var(--fill-color);\n",
              "      border-top-color: var(--fill-color);\n",
              "    }\n",
              "    60% {\n",
              "      border-color: transparent;\n",
              "      border-right-color: var(--fill-color);\n",
              "    }\n",
              "    80% {\n",
              "      border-color: transparent;\n",
              "      border-right-color: var(--fill-color);\n",
              "      border-bottom-color: var(--fill-color);\n",
              "    }\n",
              "    90% {\n",
              "      border-color: transparent;\n",
              "      border-bottom-color: var(--fill-color);\n",
              "    }\n",
              "  }\n",
              "</style>\n",
              "\n",
              "  <script>\n",
              "    async function quickchart(key) {\n",
              "      const quickchartButtonEl =\n",
              "        document.querySelector('#' + key + ' button');\n",
              "      quickchartButtonEl.disabled = true;  // To prevent multiple clicks.\n",
              "      quickchartButtonEl.classList.add('colab-df-spinner');\n",
              "      try {\n",
              "        const charts = await google.colab.kernel.invokeFunction(\n",
              "            'suggestCharts', [key], {});\n",
              "      } catch (error) {\n",
              "        console.error('Error during call to suggestCharts:', error);\n",
              "      }\n",
              "      quickchartButtonEl.classList.remove('colab-df-spinner');\n",
              "      quickchartButtonEl.classList.add('colab-df-quickchart-complete');\n",
              "    }\n",
              "    (() => {\n",
              "      let quickchartButtonEl =\n",
              "        document.querySelector('#df-52746b99-d2bb-4826-98b0-e18dd8741c1e button');\n",
              "      quickchartButtonEl.style.display =\n",
              "        google.colab.kernel.accessAllowed ? 'block' : 'none';\n",
              "    })();\n",
              "  </script>\n",
              "</div>\n",
              "\n",
              "    </div>\n",
              "  </div>\n"
            ],
            "text/plain": [
              "   x      y\n",
              "0  0   2.27\n",
              "1  1   6.38\n",
              "2  2   8.61\n",
              "3  3   8.65\n",
              "4  4  13.17"
            ]
          },
          "execution_count": 71,
          "metadata": {},
          "output_type": "execute_result"
        }
      ],
      "source": [
        "y2 = pd.DataFrame({\"x\":range(226), \"y\":data.SpringPos})\n",
        "y2.head()"
      ]
    },
    {
      "cell_type": "markdown",
      "id": "8ea2132a",
      "metadata": {
        "id": "8ea2132a"
      },
      "source": [
        "### transform the data into matrices"
      ]
    },
    {
      "cell_type": "code",
      "execution_count": 72,
      "id": "668a13de",
      "metadata": {
        "ExecuteTime": {
          "end_time": "2024-08-11T09:59:07.521506Z",
          "start_time": "2024-08-11T09:59:07.517797Z"
        },
        "id": "668a13de"
      },
      "outputs": [],
      "source": [
        "yy = np.array(y2.y)\n",
        "xx = np.expand_dims(y2.x, 1)"
      ]
    },
    {
      "cell_type": "code",
      "execution_count": 72,
      "id": "d4a49c37",
      "metadata": {
        "ExecuteTime": {
          "end_time": "2024-08-11T07:18:05.170375Z",
          "start_time": "2024-08-11T07:18:05.166742Z"
        },
        "id": "d4a49c37"
      },
      "outputs": [],
      "source": []
    },
    {
      "cell_type": "markdown",
      "id": "7cbc087b",
      "metadata": {
        "id": "7cbc087b"
      },
      "source": [
        "### run the closed form solution to estimate the beta parameter."
      ]
    },
    {
      "cell_type": "code",
      "execution_count": 73,
      "id": "237cda74",
      "metadata": {
        "ExecuteTime": {
          "end_time": "2024-08-11T09:59:08.902430Z",
          "start_time": "2024-08-11T09:59:08.897584Z"
        },
        "colab": {
          "base_uri": "https://localhost:8080/"
        },
        "id": "237cda74",
        "outputId": "a3676eca-3a26-472e-ee7f-84cf749ab001"
      },
      "outputs": [
        {
          "name": "stdout",
          "output_type": "stream",
          "text": [
            "Beta =  0.018321754998724564\n",
            "SSE =  27738.298279267474\n"
          ]
        }
      ],
      "source": [
        "numerator = np.matmul(np.transpose(xx), yy)\n",
        "denom = np.matmul(np.transpose(xx), xx)\n",
        "denom_inv = np.linalg.inv(denom)\n",
        "beta = np.matmul(denom_inv, numerator)\n",
        "print(\"Beta = \", beta[0])\n",
        "sse = np.sum((xx*beta[0] - np.expand_dims(yy,1))**2)\n",
        "print(\"SSE = \", sse)"
      ]
    },
    {
      "cell_type": "markdown",
      "id": "f6414c18",
      "metadata": {
        "id": "f6414c18"
      },
      "source": [
        "### as we will be reusing the above procedure often, let's make it a function"
      ]
    },
    {
      "cell_type": "code",
      "execution_count": 74,
      "id": "bc850a33",
      "metadata": {
        "ExecuteTime": {
          "end_time": "2024-08-11T09:59:15.015016Z",
          "start_time": "2024-08-11T09:59:15.009913Z"
        },
        "id": "bc850a33"
      },
      "outputs": [],
      "source": [
        "# estimate the value of the beta vector assuming that X is made of independent features.\n",
        "def estimateBeta(X, y):\n",
        "    numerator = np.matmul(np.transpose(X), y)\n",
        "    denom = np.matmul(np.transpose(X), X)\n",
        "    denom_inv = np.linalg.inv(denom)\n",
        "    beta = np.matmul(denom_inv, numerator)\n",
        "    return beta\n",
        "\n",
        "# create a helper that would estimate yhat from X and beta.\n",
        "def predict(beta, X):\n",
        "    # reshape the input to a matrix, if it is appearing like an 1d array.\n",
        "    if len(X.shape) != 2:\n",
        "        X = np.expand_dims(X,1)\n",
        "    # convert the beta list in to an array.\n",
        "    beta = np.array(beta)\n",
        "    # perform estimation of yhat.\n",
        "    return np.matmul(X, beta)\n",
        "\n",
        "# compute the sum of squared error between y and yhat.\n",
        "def SSE(y, yhat):\n",
        "    return np.sum((y-yhat)**2)"
      ]
    },
    {
      "cell_type": "markdown",
      "id": "59c231d6",
      "metadata": {
        "id": "59c231d6"
      },
      "source": [
        "### Let's plot the raw data and the regression line on the same plot"
      ]
    },
    {
      "cell_type": "code",
      "execution_count": 75,
      "id": "1ac54cc3",
      "metadata": {
        "ExecuteTime": {
          "end_time": "2024-08-11T09:59:16.517881Z",
          "start_time": "2024-08-11T09:59:16.446141Z"
        },
        "colab": {
          "base_uri": "https://localhost:8080/",
          "height": 466
        },
        "id": "1ac54cc3",
        "outputId": "f2be6dee-42ee-46d9-f582-76b3ca84d2e3"
      },
      "outputs": [
        {
          "data": {
            "text/plain": [
              "Text(0.5, 0, 'Time')"
            ]
          },
          "execution_count": 75,
          "metadata": {},
          "output_type": "execute_result"
        },
        {
          "data": {
            "image/png": "[encoded data removed]",
            "text/plain": [
              "<Figure size 640x480 with 1 Axes>"
            ]
          },
          "metadata": {},
          "output_type": "display_data"
        }
      ],
      "source": [
        "plt.plot(y2.x, y2.y, 'r+')\n",
        "yhat1 = predict(beta, y2.x)\n",
        "plt.plot(y2.x, yhat1, 'b-')  # yhat = y2.x*beta[0]\n",
        "plt.ylabel('spring data')\n",
        "plt.xlabel('Time')"
      ]
    },
    {
      "cell_type": "markdown",
      "id": "99fa4627",
      "metadata": {
        "ExecuteTime": {
          "end_time": "2024-08-11T07:11:43.870023Z",
          "start_time": "2024-08-11T07:11:43.802765Z"
        },
        "id": "99fa4627"
      },
      "source": [
        "### let's add an intercept (bias) to the data and check if the SSE drops further."
      ]
    },
    {
      "cell_type": "code",
      "execution_count": 76,
      "id": "e49dae20",
      "metadata": {
        "ExecuteTime": {
          "end_time": "2024-08-11T09:59:22.471253Z",
          "start_time": "2024-08-11T09:59:22.459478Z"
        },
        "colab": {
          "base_uri": "https://localhost:8080/",
          "height": 206
        },
        "id": "e49dae20",
        "outputId": "4b7be886-6d16-4997-fd8c-5eff4cc6b1ac"
      },
      "outputs": [
        {
          "data": {
            "application/vnd.google.colaboratory.intrinsic+json": {
              "summary": "{\n  \"name\": \"y2df\",\n  \"rows\": 226,\n  \"fields\": [\n    {\n      \"column\": \"bias\",\n      \"properties\": {\n        \"dtype\": \"number\",\n        \"std\": 0.0,\n        \"min\": 1.0,\n        \"max\": 1.0,\n        \"num_unique_values\": 1,\n        \"samples\": [\n          1.0\n        ],\n        \"semantic_type\": \"\",\n        \"description\": \"\"\n      }\n    },\n    {\n      \"column\": \"x\",\n      \"properties\": {\n        \"dtype\": \"number\",\n        \"std\": 65,\n        \"min\": 0,\n        \"max\": 225,\n        \"num_unique_values\": 226,\n        \"samples\": [\n          9\n        ],\n        \"semantic_type\": \"\",\n        \"description\": \"\"\n      }\n    },\n    {\n      \"column\": \"y\",\n      \"properties\": {\n        \"dtype\": \"number\",\n        \"std\": 10.704778380380326,\n        \"min\": -19.91,\n        \"max\": 26.1,\n        \"num_unique_values\": 222,\n        \"samples\": [\n          4.75\n        ],\n        \"semantic_type\": \"\",\n        \"description\": \"\"\n      }\n    }\n  ]\n}",
              "type": "dataframe",
              "variable_name": "y2df"
            },
            "text/html": [
              "\n",
              "  <div id=\"df-c13d9b7c-5a47-4661-89be-1bf28d251573\" class=\"colab-df-container\">\n",
              "    <div>\n",
              "<style scoped>\n",
              "    .dataframe tbody tr th:only-of-type {\n",
              "        vertical-align: middle;\n",
              "    }\n",
              "\n",
              "    .dataframe tbody tr th {\n",
              "        vertical-align: top;\n",
              "    }\n",
              "\n",
              "    .dataframe thead th {\n",
              "        text-align: right;\n",
              "    }\n",
              "</style>\n",
              "<table border=\"1\" class=\"dataframe\">\n",
              "  <thead>\n",
              "    <tr style=\"text-align: right;\">\n",
              "      <th></th>\n",
              "      <th>bias</th>\n",
              "      <th>x</th>\n",
              "      <th>y</th>\n",
              "    </tr>\n",
              "  </thead>\n",
              "  <tbody>\n",
              "    <tr>\n",
              "      <th>0</th>\n",
              "      <td>1.0</td>\n",
              "      <td>0</td>\n",
              "      <td>2.27</td>\n",
              "    </tr>\n",
              "    <tr>\n",
              "      <th>1</th>\n",
              "      <td>1.0</td>\n",
              "      <td>1</td>\n",
              "      <td>6.38</td>\n",
              "    </tr>\n",
              "    <tr>\n",
              "      <th>2</th>\n",
              "      <td>1.0</td>\n",
              "      <td>2</td>\n",
              "      <td>8.61</td>\n",
              "    </tr>\n",
              "    <tr>\n",
              "      <th>3</th>\n",
              "      <td>1.0</td>\n",
              "      <td>3</td>\n",
              "      <td>8.65</td>\n",
              "    </tr>\n",
              "    <tr>\n",
              "      <th>4</th>\n",
              "      <td>1.0</td>\n",
              "      <td>4</td>\n",
              "      <td>13.17</td>\n",
              "    </tr>\n",
              "  </tbody>\n",
              "</table>\n",
              "</div>\n",
              "    <div class=\"colab-df-buttons\">\n",
              "\n",
              "  <div class=\"colab-df-container\">\n",
              "    <button class=\"colab-df-convert\" onclick=\"convertToInteractive('df-c13d9b7c-5a47-4661-89be-1bf28d251573')\"\n",
              "            title=\"Convert this dataframe to an interactive table.\"\n",
              "            style=\"display:none;\">\n",
              "\n",
              "  <svg xmlns=\"http://www.w3.org/2000/svg\" height=\"24px\" viewBox=\"0 -960 960 960\">\n",
              "    <path d=\"M120-120v-720h720v720H120Zm60-500h600v-160H180v160Zm220 220h160v-160H400v160Zm0 220h160v-160H400v160ZM180-400h160v-160H180v160Zm440 0h160v-160H620v160ZM180-180h160v-160H180v160Zm440 0h160v-160H620v160Z\"/>\n",
              "  </svg>\n",
              "    </button>\n",
              "\n",
              "  <style>\n",
              "    .colab-df-container {\n",
              "      display:flex;\n",
              "      gap: 12px;\n",
              "    }\n",
              "\n",
              "    .colab-df-convert {\n",
              "      background-color: #E8F0FE;\n",
              "      border: none;\n",
              "      border-radius: 50%;\n",
              "      cursor: pointer;\n",
              "      display: none;\n",
              "      fill: #1967D2;\n",
              "      height: 32px;\n",
              "      padding: 0 0 0 0;\n",
              "      width: 32px;\n",
              "    }\n",
              "\n",
              "    .colab-df-convert:hover {\n",
              "      background-color: #E2EBFA;\n",
              "      box-shadow: 0px 1px 2px rgba(60, 64, 67, 0.3), 0px 1px 3px 1px rgba(60, 64, 67, 0.15);\n",
              "      fill: #174EA6;\n",
              "    }\n",
              "\n",
              "    .colab-df-buttons div {\n",
              "      margin-bottom: 4px;\n",
              "    }\n",
              "\n",
              "    [theme=dark] .colab-df-convert {\n",
              "      background-color: #3B4455;\n",
              "      fill: #D2E3FC;\n",
              "    }\n",
              "\n",
              "    [theme=dark] .colab-df-convert:hover {\n",
              "      background-color: #434B5C;\n",
              "      box-shadow: 0px 1px 3px 1px rgba(0, 0, 0, 0.15);\n",
              "      filter: drop-shadow(0px 1px 2px rgba(0, 0, 0, 0.3));\n",
              "      fill: #FFFFFF;\n",
              "    }\n",
              "  </style>\n",
              "\n",
              "    <script>\n",
              "      const buttonEl =\n",
              "        document.querySelector('#df-c13d9b7c-5a47-4661-89be-1bf28d251573 button.colab-df-convert');\n",
              "      buttonEl.style.display =\n",
              "        google.colab.kernel.accessAllowed ? 'block' : 'none';\n",
              "\n",
              "      async function convertToInteractive(key) {\n",
              "        const element = document.querySelector('#df-c13d9b7c-5a47-4661-89be-1bf28d251573');\n",
              "        const dataTable =\n",
              "          await google.colab.kernel.invokeFunction('convertToInteractive',\n",
              "                                                    [key], {});\n",
              "        if (!dataTable) return;\n",
              "\n",
              "        const docLinkHtml = 'Like what you see? Visit the ' +\n",
              "          '<a target=\"_blank\" href=https://colab.research.google.com/notebooks/data_table.ipynb>data table notebook</a>'\n",
              "          + ' to learn more about interactive tables.';\n",
              "        element.innerHTML = '';\n",
              "        dataTable['output_type'] = 'display_data';\n",
              "        await google.colab.output.renderOutput(dataTable, element);\n",
              "        const docLink = document.createElement('div');\n",
              "        docLink.innerHTML = docLinkHtml;\n",
              "        element.appendChild(docLink);\n",
              "      }\n",
              "    </script>\n",
              "  </div>\n",
              "\n",
              "\n",
              "<div id=\"df-7272ff60-07d8-4584-a5a2-3ac1a1e65c1a\">\n",
              "  <button class=\"colab-df-quickchart\" onclick=\"quickchart('df-7272ff60-07d8-4584-a5a2-3ac1a1e65c1a')\"\n",
              "            title=\"Suggest charts\"\n",
              "            style=\"display:none;\">\n",
              "\n",
              "<svg xmlns=\"http://www.w3.org/2000/svg\" height=\"24px\"viewBox=\"0 0 24 24\"\n",
              "     width=\"24px\">\n",
              "    <g>\n",
              "        <path d=\"M19 3H5c-1.1 0-2 .9-2 2v14c0 1.1.9 2 2 2h14c1.1 0 2-.9 2-2V5c0-1.1-.9-2-2-2zM9 17H7v-7h2v7zm4 0h-2V7h2v10zm4 0h-2v-4h2v4z\"/>\n",
              "    </g>\n",
              "</svg>\n",
              "  </button>\n",
              "\n",
              "<style>\n",
              "  .colab-df-quickchart {\n",
              "      --bg-color: #E8F0FE;\n",
              "      --fill-color: #1967D2;\n",
              "      --hover-bg-color: #E2EBFA;\n",
              "      --hover-fill-color: #174EA6;\n",
              "      --disabled-fill-color: #AAA;\n",
              "      --disabled-bg-color: #DDD;\n",
              "  }\n",
              "\n",
              "  [theme=dark] .colab-df-quickchart {\n",
              "      --bg-color: #3B4455;\n",
              "      --fill-color: #D2E3FC;\n",
              "      --hover-bg-color: #434B5C;\n",
              "      --hover-fill-color: #FFFFFF;\n",
              "      --disabled-bg-color: #3B4455;\n",
              "      --disabled-fill-color: #666;\n",
              "  }\n",
              "\n",
              "  .colab-df-quickchart {\n",
              "    background-color: var(--bg-color);\n",
              "    border: none;\n",
              "    border-radius: 50%;\n",
              "    cursor: pointer;\n",
              "    display: none;\n",
              "    fill: var(--fill-color);\n",
              "    height: 32px;\n",
              "    padding: 0;\n",
              "    width: 32px;\n",
              "  }\n",
              "\n",
              "  .colab-df-quickchart:hover {\n",
              "    background-color: var(--hover-bg-color);\n",
              "    box-shadow: 0 1px 2px rgba(60, 64, 67, 0.3), 0 1px 3px 1px rgba(60, 64, 67, 0.15);\n",
              "    fill: var(--button-hover-fill-color);\n",
              "  }\n",
              "\n",
              "  .colab-df-quickchart-complete:disabled,\n",
              "  .colab-df-quickchart-complete:disabled:hover {\n",
              "    background-color: var(--disabled-bg-color);\n",
              "    fill: var(--disabled-fill-color);\n",
              "    box-shadow: none;\n",
              "  }\n",
              "\n",
              "  .colab-df-spinner {\n",
              "    border: 2px solid var(--fill-color);\n",
              "    border-color: transparent;\n",
              "    border-bottom-color: var(--fill-color);\n",
              "    animation:\n",
              "      spin 1s steps(1) infinite;\n",
              "  }\n",
              "\n",
              "  @keyframes spin {\n",
              "    0% {\n",
              "      border-color: transparent;\n",
              "      border-bottom-color: var(--fill-color);\n",
              "      border-left-color: var(--fill-color);\n",
              "    }\n",
              "    20% {\n",
              "      border-color: transparent;\n",
              "      border-left-color: var(--fill-color);\n",
              "      border-top-color: var(--fill-color);\n",
              "    }\n",
              "    30% {\n",
              "      border-color: transparent;\n",
              "      border-left-color: var(--fill-color);\n",
              "      border-top-color: var(--fill-color);\n",
              "      border-right-color: var(--fill-color);\n",
              "    }\n",
              "    40% {\n",
              "      border-color: transparent;\n",
              "      border-right-color: var(--fill-color);\n",
              "      border-top-color: var(--fill-color);\n",
              "    }\n",
              "    60% {\n",
              "      border-color: transparent;\n",
              "      border-right-color: var(--fill-color);\n",
              "    }\n",
              "    80% {\n",
              "      border-color: transparent;\n",
              "      border-right-color: var(--fill-color);\n",
              "      border-bottom-color: var(--fill-color);\n",
              "    }\n",
              "    90% {\n",
              "      border-color: transparent;\n",
              "      border-bottom-color: var(--fill-color);\n",
              "    }\n",
              "  }\n",
              "</style>\n",
              "\n",
              "  <script>\n",
              "    async function quickchart(key) {\n",
              "      const quickchartButtonEl =\n",
              "        document.querySelector('#' + key + ' button');\n",
              "      quickchartButtonEl.disabled = true;  // To prevent multiple clicks.\n",
              "      quickchartButtonEl.classList.add('colab-df-spinner');\n",
              "      try {\n",
              "        const charts = await google.colab.kernel.invokeFunction(\n",
              "            'suggestCharts', [key], {});\n",
              "      } catch (error) {\n",
              "        console.error('Error during call to suggestCharts:', error);\n",
              "      }\n",
              "      quickchartButtonEl.classList.remove('colab-df-spinner');\n",
              "      quickchartButtonEl.classList.add('colab-df-quickchart-complete');\n",
              "    }\n",
              "    (() => {\n",
              "      let quickchartButtonEl =\n",
              "        document.querySelector('#df-7272ff60-07d8-4584-a5a2-3ac1a1e65c1a button');\n",
              "      quickchartButtonEl.style.display =\n",
              "        google.colab.kernel.accessAllowed ? 'block' : 'none';\n",
              "    })();\n",
              "  </script>\n",
              "</div>\n",
              "\n",
              "    </div>\n",
              "  </div>\n"
            ],
            "text/plain": [
              "   bias  x      y\n",
              "0   1.0  0   2.27\n",
              "1   1.0  1   6.38\n",
              "2   1.0  2   8.61\n",
              "3   1.0  3   8.65\n",
              "4   1.0  4  13.17"
            ]
          },
          "execution_count": 76,
          "metadata": {},
          "output_type": "execute_result"
        }
      ],
      "source": [
        "y2df = pd.DataFrame({\"bias\":np.ones(226), \"x\":range(226), \"y\":data.SpringPos})\n",
        "yy = np.array(y2df.y)\n",
        "xx = np.array(y2df[[\"bias\",\"x\"]])\n",
        "y2df.head()"
      ]
    },
    {
      "cell_type": "markdown",
      "id": "3a900f18",
      "metadata": {
        "ExecuteTime": {
          "end_time": "2024-08-11T07:15:37.075016Z",
          "start_time": "2024-08-11T07:15:37.071114Z"
        },
        "id": "3a900f18"
      },
      "source": [
        "### estimate the beta params and compute the loss again"
      ]
    },
    {
      "cell_type": "code",
      "execution_count": 77,
      "id": "7163bf48",
      "metadata": {
        "ExecuteTime": {
          "end_time": "2024-08-11T09:59:25.114703Z",
          "start_time": "2024-08-11T09:59:25.110456Z"
        },
        "colab": {
          "base_uri": "https://localhost:8080/"
        },
        "id": "7163bf48",
        "outputId": "e7364dfd-bc4c-477b-a826-8a2a69930ed2"
      },
      "outputs": [
        {
          "name": "stdout",
          "output_type": "stream",
          "text": [
            "beta = [ 6.8505263  -0.02724716]\n",
            "SSE = 25069.131971939343\n"
          ]
        }
      ],
      "source": [
        "beta2 = estimateBeta(xx, yy)\n",
        "print(\"beta =\", beta2)\n",
        "yhat2 = predict(beta2, xx)\n",
        "loss = SSE(yy, yhat2)\n",
        "print(\"SSE =\", loss)"
      ]
    },
    {
      "cell_type": "markdown",
      "id": "b8929c74",
      "metadata": {
        "id": "b8929c74"
      },
      "source": [
        "### interesting! the loss has dropped with a little bit on intercept.  Let's plot it side by side."
      ]
    },
    {
      "cell_type": "code",
      "execution_count": 78,
      "id": "01daa165",
      "metadata": {
        "ExecuteTime": {
          "end_time": "2024-08-11T09:59:30.570215Z",
          "start_time": "2024-08-11T09:59:30.499016Z"
        },
        "colab": {
          "base_uri": "https://localhost:8080/",
          "height": 466
        },
        "id": "01daa165",
        "outputId": "a703add7-3613-44e3-f635-af22a837689c"
      },
      "outputs": [
        {
          "data": {
            "text/plain": [
              "Text(0.5, 0, 'Time')"
            ]
          },
          "execution_count": 78,
          "metadata": {},
          "output_type": "execute_result"
        },
        {
          "data": {
            "image/png": "[encoded data removed]",
            "text/plain": [
              "<Figure size 640x480 with 1 Axes>"
            ]
          },
          "metadata": {},
          "output_type": "display_data"
        }
      ],
      "source": [
        "plt.plot(y2df.x, y2df.y, 'r+')\n",
        "plt.plot(y2df.x, yhat1, 'b-')\n",
        "plt.plot(y2df.x, yhat2, 'g-')\n",
        "plt.ylabel('Spring data')\n",
        "plt.xlabel('Time')"
      ]
    },
    {
      "cell_type": "markdown",
      "id": "jwO-qyp-fIbA",
      "metadata": {
        "id": "jwO-qyp-fIbA"
      },
      "source": [
        "# LEt's bring together and plot the important graphs"
      ]
    },
    {
      "cell_type": "code",
      "execution_count": 79,
      "id": "sqEeBhLGQ4kE",
      "metadata": {
        "colab": {
          "base_uri": "https://localhost:8080/",
          "height": 1000
        },
        "id": "sqEeBhLGQ4kE",
        "outputId": "9a07782c-4cc3-41d2-9505-94dacf26b2b6"
      },
      "outputs": [
        {
          "name": "stdout",
          "output_type": "stream",
          "text": [
            "OLS Estimated m: 0.018321754998724564\n",
            "Grid Search (5-degree step) Estimated m: 0.0, Optimal Theta: 0 degrees\n",
            "Sklearn LinearRegression Estimated m: 0.018321754998724564\n",
            "Gradient Descent Estimated m: 0.01832175499872456\n"
          ]
        },
        {
          "data": {
            "image/png": "[encoded data removed]",
            "text/plain": [
              "<Figure size 640x480 with 1 Axes>"
            ]
          },
          "metadata": {},
          "output_type": "display_data"
        },
        {
          "data": {
            "image/png": "[encoded data removed]",
            "text/plain": [
              "<Figure size 640x480 with 1 Axes>"
            ]
          },
          "metadata": {},
          "output_type": "display_data"
        },
        {
          "data": {
            "image/png": "[encoded data removed]",
            "text/plain": [
              "<Figure size 640x480 with 1 Axes>"
            ]
          },
          "metadata": {},
          "output_type": "display_data"
        },
        {
          "data": {
            "image/png": "[encoded data removed]",
            "text/plain": [
              "<Figure size 640x480 with 1 Axes>"
            ]
          },
          "metadata": {},
          "output_type": "display_data"
        },
        {
          "data": {
            "image/png": "[encoded data removed]",
            "text/plain": [
              "<Figure size 640x480 with 1 Axes>"
            ]
          },
          "metadata": {},
          "output_type": "display_data"
        },
        {
          "data": {
            "image/png": "[encoded data removed]",
            "text/plain": [
              "<Figure size 640x480 with 1 Axes>"
            ]
          },
          "metadata": {},
          "output_type": "display_data"
        },
        {
          "name": "stdout",
          "output_type": "stream",
          "text": [
            "Refined Optimal Theta: 1 degrees, Refined Optimal m: 0.017455064928217585\n"
          ]
        }
      ],
      "source": [
        "import numpy as np\n",
        "import matplotlib.pyplot as plt\n",
        "from sklearn.linear_model import LinearRegression\n",
        "data_p = np.loadtxt(\"col1.data\")\n",
        "\n",
        "\n",
        "x = np.arange(len(data_p))  # Time intervals based on the number of data points\n",
        "y = data_p  # the dataset\n",
        "\n",
        "# OLS Closed-form solution: m = (x^T * y) / (x^T * x)\n",
        "m_ols = np.dot(x, y) / np.dot(x, x)\n",
        "\n",
        "# Grid Search for m = tan(theta), theta in [0, 60]\n",
        "degrees = np.arange(0, 65, 5)\n",
        "radians = np.radians(degrees)\n",
        "m_values = np.tan(radians)\n",
        "\n",
        "# Compute SSE for each m\n",
        "sse_values = []\n",
        "for m in m_values:\n",
        "    y_pred = m * x  # Predicted y\n",
        "    sse = np.sum((y - y_pred) ** 2)  # Compute SSE\n",
        "    sse_values.append(sse)\n",
        "\n",
        "# Find the theta that minimizes SSE\n",
        "min_sse_idx = np.argmin(sse_values)\n",
        "optimal_theta = degrees[min_sse_idx]\n",
        "optimal_m = m_values[min_sse_idx]\n",
        "\n",
        "# Sklearn's LinearRegression approach (forcing intercept = 0)\n",
        "x_reshaped = x.reshape(-1, 1)\n",
        "model = LinearRegression(fit_intercept=False)\n",
        "model.fit(x_reshaped, y)\n",
        "m_sklearn = model.coef_[0]\n",
        "\n",
        "# Gradient Descent Implementation\n",
        "alpha = 0.00001  # Learning rate\n",
        "num_iterations = 1000  # Number of iterations\n",
        "m_gd = 0  # Initial guess for m\n",
        "n = len(x)\n",
        "\n",
        "m_history = []\n",
        "sse_history = []\n",
        "\n",
        "for i in range(num_iterations):\n",
        "    # Predicted y values based on current m\n",
        "    y_pred = m_gd * x\n",
        "\n",
        "    # Compute the gradient of SSE with respect to m\n",
        "    gradient = -2 * np.sum(x * (y - y_pred)) / n\n",
        "\n",
        "    # Update m using gradient descent update rule\n",
        "    m_gd = m_gd - alpha * gradient\n",
        "\n",
        "    # Store the SSE for this iteration\n",
        "    sse = np.sum((y - y_pred) ** 2)\n",
        "    sse_history.append(sse)\n",
        "    m_history.append(m_gd)\n",
        "\n",
        "print(f\"OLS Estimated m: {m_ols}\")\n",
        "print(f\"Grid Search (5-degree step) Estimated m: {optimal_m}, Optimal Theta: {optimal_theta} degrees\")\n",
        "print(f\"Sklearn LinearRegression Estimated m: {m_sklearn}\")\n",
        "print(f\"Gradient Descent Estimated m: {m_gd}\")\n",
        "\n",
        "# Refined Grid Search for m = tan(theta), theta in [0, 60] with 1-degree step\n",
        "degrees_refined = np.arange(0, 61, 1)\n",
        "radians_refined = np.radians(degrees_refined)\n",
        "m_values_refined = np.tan(radians_refined)\n",
        "sse_values_refined = []\n",
        "\n",
        "for m in m_values_refined:\n",
        "    y_pred = m * x\n",
        "    sse = np.sum((y - y_pred) ** 2)  # Compute SSE\n",
        "    sse_values_refined.append(sse)\n",
        "\n",
        "# Find the theta that minimizes SSE in refined search\n",
        "min_sse_idx_refined = np.argmin(sse_values_refined)\n",
        "optimal_theta_refined = degrees_refined[min_sse_idx_refined]\n",
        "optimal_m_refined = m_values_refined[min_sse_idx_refined]\n",
        "\n",
        "# Plott\n",
        "\n",
        "# Original Data and Best Fit Line for OLS\n",
        "y_pred_ols = m_ols * x\n",
        "plt.scatter(x, y, color='blue', label='Data points')\n",
        "plt.plot(x, y_pred_ols, color='red', label=f'Best fit line (m_ols = {m_ols:.4f})')\n",
        "plt.xlabel('x (Time)')\n",
        "plt.ylabel('y (Data)')\n",
        "plt.title('Data Points and OLS Best Fit Line')\n",
        "plt.legend()\n",
        "plt.grid(True)\n",
        "plt.show()\n",
        "\n",
        "# Sklearn Best Fit Line\n",
        "y_pred_sklearn = m_sklearn * x\n",
        "plt.scatter(x, y, color='blue', label='Data points')\n",
        "plt.plot(x, y_pred_sklearn, color='black', label=f'Sklearn Best fit line (m_sklearn = {m_sklearn:.4f})')\n",
        "plt.xlabel('x (Time)')\n",
        "plt.ylabel('y (Data)')\n",
        "plt.title('Data Points and Sklearn Best Fit Line')\n",
        "plt.legend()\n",
        "plt.grid(True)\n",
        "plt.show()\n",
        "\n",
        "# Gradient Descent Best Fit Line\n",
        "y_pred_gd = m_gd * x\n",
        "plt.scatter(x, y, color='blue', label='Data points')\n",
        "plt.plot(x, y_pred_gd, color='green', label=f'Gradient Descent Line (m_gd = {m_gd:.4f})')\n",
        "plt.xlabel('x (Time)')\n",
        "plt.ylabel('y (Data)')\n",
        "plt.title('Data Points and Gradient Descent Best Fit Line')\n",
        "plt.legend()\n",
        "plt.grid(True)\n",
        "plt.show()\n",
        "\n",
        "# SSE vs Theta (Grid Search with 5-degree step)\n",
        "plt.plot(degrees, sse_values, marker='o')\n",
        "plt.xlabel('Theta (degrees)')\n",
        "plt.ylabel('SSE')\n",
        "plt.title('SSE vs Theta (5-degree step)')\n",
        "plt.grid(True)\n",
        "plt.show()\n",
        "\n",
        "# SSE vs Theta (Refined Grid Search with 1-degree step)\n",
        "plt.plot(degrees_refined, sse_values_refined, marker='o')\n",
        "plt.xlabel('Theta (degrees)')\n",
        "plt.ylabel('SSE')\n",
        "plt.title('Refined SSE vs Theta (1-degree step)')\n",
        "plt.grid(True)\n",
        "plt.show()\n",
        "\n",
        "# SSE history of Gradient Descent\n",
        "plt.plot(range(num_iterations), sse_history)\n",
        "plt.xlabel('Iterations')\n",
        "plt.ylabel('SSE')\n",
        "plt.title('SSE vs Iterations (Gradient Descent)')\n",
        "plt.grid(True)\n",
        "plt.show()\n",
        "\n",
        "# Final Output of Refined Optimal Theta and m\n",
        "print(f\"Refined Optimal Theta: {optimal_theta_refined} degrees, Refined Optimal m: {optimal_m_refined}\")\n"
      ]
    },
    {
      "cell_type": "code",
      "execution_count": 79,
      "id": "ZbxlE8TCZg_w",
      "metadata": {
        "id": "ZbxlE8TCZg_w"
      },
      "outputs": [],
      "source": []
    },
    {
      "cell_type": "markdown",
      "id": "Lk_2WKGuSl03",
      "metadata": {
        "id": "Lk_2WKGuSl03"
      },
      "source": [
        "# Compare the estimated ‘m’ values through the above three methods:\n",
        "\n",
        "\n",
        "- **Precision and Implementation Differences**: The results are identical in out case. The OLS closed form, grid search, and scikit-learn all implement least squares, but slight differences may arise due to rounding errors, grid search step sizes, or different ways of minimizing the error.\n",
        "\n",
        "- **Grid Search Resolution**: In grid search, the precision of \\( m \\) depends on the step size of \\( \\theta \\). A finer step size may yield a closer match to the closed-form solution.\n",
        "\n",
        "- **GD**: Gradient descent can slightly outperform OLS or grid search in terms of error minimization because it is an iterative, flexible, and often numerically more stable method, particularly when dealing with complex data or subtle numerical issues.\n",
        "\n"
      ]
    },
    {
      "cell_type": "markdown",
      "id": "MrMgdUE5dz2X",
      "metadata": {
        "id": "MrMgdUE5dz2X"
      },
      "source": [
        "# ===================================================================================================================================="
      ]
    },
    {
      "cell_type": "markdown",
      "id": "CfUNI1rCWo_J",
      "metadata": {
        "id": "CfUNI1rCWo_J"
      },
      "source": [
        "# Regression Model Tasks\n",
        "\n",
        "## 1. Split the Data into Train, Eval & Test\n",
        "- **Interpolation**: When we randomly split the data into train, eval, and test sets, the test and evaluation data points may lie within the data range (time range). If we predict those points correctly, wq are essentially recovering missing data along the regression line. This is referred to as the interpolation problem.\n",
        "\n",
        "- **Extrapolation**: In this scenario, the test and evaluation points should be outside the time range of the training data. If our model is a good fit, predicting data points outside the range will extrapolate the regression line. This is also known as the “Forecasting” task.\n",
        "\n",
        "## 2. Implement the Regression Model\n",
        "- Use **OLS**, **LinearRegression**, or an equivalent method to implement the regression model. Apply appropriate **feature transformation** to lower the sum of squared errors (SSE) compared to Task 1.\n",
        "\n",
        "## 3. Train the Regression Model for Interpolation\n",
        "- Train the regression model with a split where test points lie inside the training data range (interpolation).\n",
        "- Evaluate the **SSE** for interpolation.\n",
        "\n",
        "## 4. Train the Regression Model for Extrapolation\n",
        "- Train the regression model with a split where test points lie outside the training data range (extrapolation).\n",
        "- Evaluate the **SSE** for extrapolation.\n"
      ]
    },
    {
      "cell_type": "markdown",
      "id": "d5fa187e",
      "metadata": {
        "id": "d5fa187e"
      },
      "source": [
        "### Let's model the periodicity\n",
        "\n",
        "Let's borrow the slope information from the fit to set up the scale of the time axis.\n",
        "\n",
        "Instead of using $x$ in integer scale, we shall use the floating point scale as $x_1 \\leftarrow \\beta_0 * x$\n",
        "\n",
        "Likewise, let's create a new data dimension to capture the periodicity as $x_2 \\leftarrow sin(x_1)$\n",
        "\n",
        "Based on the expanded feature space, now let's try to model $\\hat{y} = m_1 x_1 + m_2 x_2$, note that we don't have to use the intercept $c$ as our previous linear model passed through the origin.\n"
      ]
    },
    {
      "cell_type": "markdown",
      "id": "677f2946",
      "metadata": {
        "id": "677f2946"
      },
      "source": [
        "### create a feature space appropriately"
      ]
    },
    {
      "cell_type": "code",
      "execution_count": 80,
      "id": "bda2b942",
      "metadata": {
        "ExecuteTime": {
          "end_time": "2024-08-11T10:04:10.060378Z",
          "start_time": "2024-08-11T10:04:10.048696Z"
        },
        "colab": {
          "base_uri": "https://localhost:8080/",
          "height": 363
        },
        "id": "bda2b942",
        "outputId": "7052e22d-5750-43d9-9716-6ae76ed62b5d"
      },
      "outputs": [
        {
          "data": {
            "application/vnd.google.colaboratory.intrinsic+json": {
              "summary": "{\n  \"name\": \"y21\",\n  \"rows\": 226,\n  \"fields\": [\n    {\n      \"column\": \"bias\",\n      \"properties\": {\n        \"dtype\": \"number\",\n        \"std\": 0.0,\n        \"min\": 1.0,\n        \"max\": 1.0,\n        \"num_unique_values\": 1,\n        \"samples\": [\n          1.0\n        ],\n        \"semantic_type\": \"\",\n        \"description\": \"\"\n      }\n    },\n    {\n      \"column\": \"x\",\n      \"properties\": {\n        \"dtype\": \"number\",\n        \"std\": 65,\n        \"min\": 0,\n        \"max\": 225,\n        \"num_unique_values\": 226,\n        \"samples\": [\n          9\n        ],\n        \"semantic_type\": \"\",\n        \"description\": \"\"\n      }\n    },\n    {\n      \"column\": \"x1\",\n      \"properties\": {\n        \"dtype\": \"number\",\n        \"std\": 1.781548682181129,\n        \"min\": -6.13,\n        \"max\": -0.0,\n        \"num_unique_values\": 226,\n        \"samples\": [\n          -0.25\n        ],\n        \"semantic_type\": \"\",\n        \"description\": \"\"\n      }\n    },\n    {\n      \"column\": \"x2\",\n      \"properties\": {\n        \"dtype\": \"number\",\n        \"std\": 0.7157747848779976,\n        \"min\": -0.9999576464987401,\n        \"max\": 0.999997146387718,\n        \"num_unique_values\": 226,\n        \"samples\": [\n          -0.24740395925452294\n        ],\n        \"semantic_type\": \"\",\n        \"description\": \"\"\n      }\n    },\n    {\n      \"column\": \"y\",\n      \"properties\": {\n        \"dtype\": \"number\",\n        \"std\": 10.704778380380326,\n        \"min\": -19.91,\n        \"max\": 26.1,\n        \"num_unique_values\": 222,\n        \"samples\": [\n          4.75\n        ],\n        \"semantic_type\": \"\",\n        \"description\": \"\"\n      }\n    }\n  ]\n}",
              "type": "dataframe",
              "variable_name": "y21"
            },
            "text/html": [
              "\n",
              "  <div id=\"df-79ead3b5-07fb-48d4-9954-1c5e4e3e8dac\" class=\"colab-df-container\">\n",
              "    <div>\n",
              "<style scoped>\n",
              "    .dataframe tbody tr th:only-of-type {\n",
              "        vertical-align: middle;\n",
              "    }\n",
              "\n",
              "    .dataframe tbody tr th {\n",
              "        vertical-align: top;\n",
              "    }\n",
              "\n",
              "    .dataframe thead th {\n",
              "        text-align: right;\n",
              "    }\n",
              "</style>\n",
              "<table border=\"1\" class=\"dataframe\">\n",
              "  <thead>\n",
              "    <tr style=\"text-align: right;\">\n",
              "      <th></th>\n",
              "      <th>bias</th>\n",
              "      <th>x</th>\n",
              "      <th>x1</th>\n",
              "      <th>x2</th>\n",
              "      <th>y</th>\n",
              "    </tr>\n",
              "  </thead>\n",
              "  <tbody>\n",
              "    <tr>\n",
              "      <th>0</th>\n",
              "      <td>1.0</td>\n",
              "      <td>0</td>\n",
              "      <td>-0.00</td>\n",
              "      <td>-0.000000</td>\n",
              "      <td>2.27</td>\n",
              "    </tr>\n",
              "    <tr>\n",
              "      <th>1</th>\n",
              "      <td>1.0</td>\n",
              "      <td>1</td>\n",
              "      <td>-0.03</td>\n",
              "      <td>-0.029996</td>\n",
              "      <td>6.38</td>\n",
              "    </tr>\n",
              "    <tr>\n",
              "      <th>2</th>\n",
              "      <td>1.0</td>\n",
              "      <td>2</td>\n",
              "      <td>-0.05</td>\n",
              "      <td>-0.049979</td>\n",
              "      <td>8.61</td>\n",
              "    </tr>\n",
              "    <tr>\n",
              "      <th>3</th>\n",
              "      <td>1.0</td>\n",
              "      <td>3</td>\n",
              "      <td>-0.08</td>\n",
              "      <td>-0.079915</td>\n",
              "      <td>8.65</td>\n",
              "    </tr>\n",
              "    <tr>\n",
              "      <th>4</th>\n",
              "      <td>1.0</td>\n",
              "      <td>4</td>\n",
              "      <td>-0.11</td>\n",
              "      <td>-0.109778</td>\n",
              "      <td>13.17</td>\n",
              "    </tr>\n",
              "    <tr>\n",
              "      <th>5</th>\n",
              "      <td>1.0</td>\n",
              "      <td>5</td>\n",
              "      <td>-0.14</td>\n",
              "      <td>-0.139543</td>\n",
              "      <td>14.52</td>\n",
              "    </tr>\n",
              "    <tr>\n",
              "      <th>6</th>\n",
              "      <td>1.0</td>\n",
              "      <td>6</td>\n",
              "      <td>-0.16</td>\n",
              "      <td>-0.159318</td>\n",
              "      <td>15.12</td>\n",
              "    </tr>\n",
              "    <tr>\n",
              "      <th>7</th>\n",
              "      <td>1.0</td>\n",
              "      <td>7</td>\n",
              "      <td>-0.19</td>\n",
              "      <td>-0.188859</td>\n",
              "      <td>19.62</td>\n",
              "    </tr>\n",
              "    <tr>\n",
              "      <th>8</th>\n",
              "      <td>1.0</td>\n",
              "      <td>8</td>\n",
              "      <td>-0.22</td>\n",
              "      <td>-0.218230</td>\n",
              "      <td>18.91</td>\n",
              "    </tr>\n",
              "    <tr>\n",
              "      <th>9</th>\n",
              "      <td>1.0</td>\n",
              "      <td>9</td>\n",
              "      <td>-0.25</td>\n",
              "      <td>-0.247404</td>\n",
              "      <td>23.17</td>\n",
              "    </tr>\n",
              "  </tbody>\n",
              "</table>\n",
              "</div>\n",
              "    <div class=\"colab-df-buttons\">\n",
              "\n",
              "  <div class=\"colab-df-container\">\n",
              "    <button class=\"colab-df-convert\" onclick=\"convertToInteractive('df-79ead3b5-07fb-48d4-9954-1c5e4e3e8dac')\"\n",
              "            title=\"Convert this dataframe to an interactive table.\"\n",
              "            style=\"display:none;\">\n",
              "\n",
              "  <svg xmlns=\"http://www.w3.org/2000/svg\" height=\"24px\" viewBox=\"0 -960 960 960\">\n",
              "    <path d=\"M120-120v-720h720v720H120Zm60-500h600v-160H180v160Zm220 220h160v-160H400v160Zm0 220h160v-160H400v160ZM180-400h160v-160H180v160Zm440 0h160v-160H620v160ZM180-180h160v-160H180v160Zm440 0h160v-160H620v160Z\"/>\n",
              "  </svg>\n",
              "    </button>\n",
              "\n",
              "  <style>\n",
              "    .colab-df-container {\n",
              "      display:flex;\n",
              "      gap: 12px;\n",
              "    }\n",
              "\n",
              "    .colab-df-convert {\n",
              "      background-color: #E8F0FE;\n",
              "      border: none;\n",
              "      border-radius: 50%;\n",
              "      cursor: pointer;\n",
              "      display: none;\n",
              "      fill: #1967D2;\n",
              "      height: 32px;\n",
              "      padding: 0 0 0 0;\n",
              "      width: 32px;\n",
              "    }\n",
              "\n",
              "    .colab-df-convert:hover {\n",
              "      background-color: #E2EBFA;\n",
              "      box-shadow: 0px 1px 2px rgba(60, 64, 67, 0.3), 0px 1px 3px 1px rgba(60, 64, 67, 0.15);\n",
              "      fill: #174EA6;\n",
              "    }\n",
              "\n",
              "    .colab-df-buttons div {\n",
              "      margin-bottom: 4px;\n",
              "    }\n",
              "\n",
              "    [theme=dark] .colab-df-convert {\n",
              "      background-color: #3B4455;\n",
              "      fill: #D2E3FC;\n",
              "    }\n",
              "\n",
              "    [theme=dark] .colab-df-convert:hover {\n",
              "      background-color: #434B5C;\n",
              "      box-shadow: 0px 1px 3px 1px rgba(0, 0, 0, 0.15);\n",
              "      filter: drop-shadow(0px 1px 2px rgba(0, 0, 0, 0.3));\n",
              "      fill: #FFFFFF;\n",
              "    }\n",
              "  </style>\n",
              "\n",
              "    <script>\n",
              "      const buttonEl =\n",
              "        document.querySelector('#df-79ead3b5-07fb-48d4-9954-1c5e4e3e8dac button.colab-df-convert');\n",
              "      buttonEl.style.display =\n",
              "        google.colab.kernel.accessAllowed ? 'block' : 'none';\n",
              "\n",
              "      async function convertToInteractive(key) {\n",
              "        const element = document.querySelector('#df-79ead3b5-07fb-48d4-9954-1c5e4e3e8dac');\n",
              "        const dataTable =\n",
              "          await google.colab.kernel.invokeFunction('convertToInteractive',\n",
              "                                                    [key], {});\n",
              "        if (!dataTable) return;\n",
              "\n",
              "        const docLinkHtml = 'Like what you see? Visit the ' +\n",
              "          '<a target=\"_blank\" href=https://colab.research.google.com/notebooks/data_table.ipynb>data table notebook</a>'\n",
              "          + ' to learn more about interactive tables.';\n",
              "        element.innerHTML = '';\n",
              "        dataTable['output_type'] = 'display_data';\n",
              "        await google.colab.output.renderOutput(dataTable, element);\n",
              "        const docLink = document.createElement('div');\n",
              "        docLink.innerHTML = docLinkHtml;\n",
              "        element.appendChild(docLink);\n",
              "      }\n",
              "    </script>\n",
              "  </div>\n",
              "\n",
              "\n",
              "<div id=\"df-d9468dfc-228d-4813-9323-ae1334841308\">\n",
              "  <button class=\"colab-df-quickchart\" onclick=\"quickchart('df-d9468dfc-228d-4813-9323-ae1334841308')\"\n",
              "            title=\"Suggest charts\"\n",
              "            style=\"display:none;\">\n",
              "\n",
              "<svg xmlns=\"http://www.w3.org/2000/svg\" height=\"24px\"viewBox=\"0 0 24 24\"\n",
              "     width=\"24px\">\n",
              "    <g>\n",
              "        <path d=\"M19 3H5c-1.1 0-2 .9-2 2v14c0 1.1.9 2 2 2h14c1.1 0 2-.9 2-2V5c0-1.1-.9-2-2-2zM9 17H7v-7h2v7zm4 0h-2V7h2v10zm4 0h-2v-4h2v4z\"/>\n",
              "    </g>\n",
              "</svg>\n",
              "  </button>\n",
              "\n",
              "<style>\n",
              "  .colab-df-quickchart {\n",
              "      --bg-color: #E8F0FE;\n",
              "      --fill-color: #1967D2;\n",
              "      --hover-bg-color: #E2EBFA;\n",
              "      --hover-fill-color: #174EA6;\n",
              "      --disabled-fill-color: #AAA;\n",
              "      --disabled-bg-color: #DDD;\n",
              "  }\n",
              "\n",
              "  [theme=dark] .colab-df-quickchart {\n",
              "      --bg-color: #3B4455;\n",
              "      --fill-color: #D2E3FC;\n",
              "      --hover-bg-color: #434B5C;\n",
              "      --hover-fill-color: #FFFFFF;\n",
              "      --disabled-bg-color: #3B4455;\n",
              "      --disabled-fill-color: #666;\n",
              "  }\n",
              "\n",
              "  .colab-df-quickchart {\n",
              "    background-color: var(--bg-color);\n",
              "    border: none;\n",
              "    border-radius: 50%;\n",
              "    cursor: pointer;\n",
              "    display: none;\n",
              "    fill: var(--fill-color);\n",
              "    height: 32px;\n",
              "    padding: 0;\n",
              "    width: 32px;\n",
              "  }\n",
              "\n",
              "  .colab-df-quickchart:hover {\n",
              "    background-color: var(--hover-bg-color);\n",
              "    box-shadow: 0 1px 2px rgba(60, 64, 67, 0.3), 0 1px 3px 1px rgba(60, 64, 67, 0.15);\n",
              "    fill: var(--button-hover-fill-color);\n",
              "  }\n",
              "\n",
              "  .colab-df-quickchart-complete:disabled,\n",
              "  .colab-df-quickchart-complete:disabled:hover {\n",
              "    background-color: var(--disabled-bg-color);\n",
              "    fill: var(--disabled-fill-color);\n",
              "    box-shadow: none;\n",
              "  }\n",
              "\n",
              "  .colab-df-spinner {\n",
              "    border: 2px solid var(--fill-color);\n",
              "    border-color: transparent;\n",
              "    border-bottom-color: var(--fill-color);\n",
              "    animation:\n",
              "      spin 1s steps(1) infinite;\n",
              "  }\n",
              "\n",
              "  @keyframes spin {\n",
              "    0% {\n",
              "      border-color: transparent;\n",
              "      border-bottom-color: var(--fill-color);\n",
              "      border-left-color: var(--fill-color);\n",
              "    }\n",
              "    20% {\n",
              "      border-color: transparent;\n",
              "      border-left-color: var(--fill-color);\n",
              "      border-top-color: var(--fill-color);\n",
              "    }\n",
              "    30% {\n",
              "      border-color: transparent;\n",
              "      border-left-color: var(--fill-color);\n",
              "      border-top-color: var(--fill-color);\n",
              "      border-right-color: var(--fill-color);\n",
              "    }\n",
              "    40% {\n",
              "      border-color: transparent;\n",
              "      border-right-color: var(--fill-color);\n",
              "      border-top-color: var(--fill-color);\n",
              "    }\n",
              "    60% {\n",
              "      border-color: transparent;\n",
              "      border-right-color: var(--fill-color);\n",
              "    }\n",
              "    80% {\n",
              "      border-color: transparent;\n",
              "      border-right-color: var(--fill-color);\n",
              "      border-bottom-color: var(--fill-color);\n",
              "    }\n",
              "    90% {\n",
              "      border-color: transparent;\n",
              "      border-bottom-color: var(--fill-color);\n",
              "    }\n",
              "  }\n",
              "</style>\n",
              "\n",
              "  <script>\n",
              "    async function quickchart(key) {\n",
              "      const quickchartButtonEl =\n",
              "        document.querySelector('#' + key + ' button');\n",
              "      quickchartButtonEl.disabled = true;  // To prevent multiple clicks.\n",
              "      quickchartButtonEl.classList.add('colab-df-spinner');\n",
              "      try {\n",
              "        const charts = await google.colab.kernel.invokeFunction(\n",
              "            'suggestCharts', [key], {});\n",
              "      } catch (error) {\n",
              "        console.error('Error during call to suggestCharts:', error);\n",
              "      }\n",
              "      quickchartButtonEl.classList.remove('colab-df-spinner');\n",
              "      quickchartButtonEl.classList.add('colab-df-quickchart-complete');\n",
              "    }\n",
              "    (() => {\n",
              "      let quickchartButtonEl =\n",
              "        document.querySelector('#df-d9468dfc-228d-4813-9323-ae1334841308 button');\n",
              "      quickchartButtonEl.style.display =\n",
              "        google.colab.kernel.accessAllowed ? 'block' : 'none';\n",
              "    })();\n",
              "  </script>\n",
              "</div>\n",
              "\n",
              "    </div>\n",
              "  </div>\n"
            ],
            "text/plain": [
              "   bias  x    x1        x2      y\n",
              "0   1.0  0 -0.00 -0.000000   2.27\n",
              "1   1.0  1 -0.03 -0.029996   6.38\n",
              "2   1.0  2 -0.05 -0.049979   8.61\n",
              "3   1.0  3 -0.08 -0.079915   8.65\n",
              "4   1.0  4 -0.11 -0.109778  13.17\n",
              "5   1.0  5 -0.14 -0.139543  14.52\n",
              "6   1.0  6 -0.16 -0.159318  15.12\n",
              "7   1.0  7 -0.19 -0.188859  19.62\n",
              "8   1.0  8 -0.22 -0.218230  18.91\n",
              "9   1.0  9 -0.25 -0.247404  23.17"
            ]
          },
          "execution_count": 80,
          "metadata": {},
          "output_type": "execute_result"
        }
      ],
      "source": [
        "x1 = round(y2.x*beta2[1],2)\n",
        "x2 = np.sin(x1)\n",
        "\n",
        "y21 = pd.DataFrame({\"bias\":np.ones(226),\"x\":range(226), \"x1\":x1, \"x2\":x2, \"y\":data.SpringPos})\n",
        "y21.head(10)"
      ]
    },
    {
      "cell_type": "markdown",
      "id": "b260b78d",
      "metadata": {
        "id": "b260b78d"
      },
      "source": [
        "### create the data matrices from the data frame"
      ]
    },
    {
      "cell_type": "code",
      "execution_count": 81,
      "id": "55b04064",
      "metadata": {
        "ExecuteTime": {
          "end_time": "2024-08-11T10:04:10.954818Z",
          "start_time": "2024-08-11T10:04:10.951115Z"
        },
        "id": "55b04064"
      },
      "outputs": [],
      "source": [
        "xx = np.array(y21[['bias', 'x1', 'x2']])\n",
        "yy = np.array(y2.y)"
      ]
    },
    {
      "cell_type": "code",
      "execution_count": 82,
      "id": "6a5ad0be",
      "metadata": {
        "ExecuteTime": {
          "end_time": "2024-08-11T10:04:11.356350Z",
          "start_time": "2024-08-11T10:04:11.352334Z"
        },
        "colab": {
          "base_uri": "https://localhost:8080/"
        },
        "id": "6a5ad0be",
        "outputId": "a04d29b3-816c-4993-b152-c4490cb54256"
      },
      "outputs": [
        {
          "name": "stdout",
          "output_type": "stream",
          "text": [
            "Beta =  [11.99634589  2.6761454   5.21496085]\n",
            "SSE =  11253105.782625107\n"
          ]
        }
      ],
      "source": [
        "beta3 = estimateBeta(xx, yy)\n",
        "print(\"Beta = \", beta3)\n",
        "yhat3 = predict(beta3, xx)\n",
        "loss = SSE(yy, yhat3) #np.sum((np.matmul(xx,beta) - yy)**2)\n",
        "print(\"SSE = \", sse)"
      ]
    },
    {
      "cell_type": "markdown",
      "id": "400d4efb",
      "metadata": {
        "id": "400d4efb"
      },
      "source": [
        "### Let's plot the raw data and the regression line on the same plot"
      ]
    },
    {
      "cell_type": "code",
      "execution_count": 83,
      "id": "3ddf45cf",
      "metadata": {
        "ExecuteTime": {
          "end_time": "2024-08-11T10:04:14.377936Z",
          "start_time": "2024-08-11T10:04:14.308230Z"
        },
        "colab": {
          "base_uri": "https://localhost:8080/",
          "height": 466
        },
        "id": "3ddf45cf",
        "outputId": "181fba03-f9c8-4868-d037-a42841c32caf"
      },
      "outputs": [
        {
          "data": {
            "text/plain": [
              "Text(0.5, 0, 'Time')"
            ]
          },
          "execution_count": 83,
          "metadata": {},
          "output_type": "execute_result"
        },
        {
          "data": {
            "image/png": "[encoded data removed]",
            "text/plain": [
              "<Figure size 640x480 with 1 Axes>"
            ]
          },
          "metadata": {},
          "output_type": "display_data"
        }
      ],
      "source": [
        "plt.plot(y2.x, y2.y, 'r+')\n",
        "plt.plot(y2.x, yhat3, 'b-')\n",
        "plt.ylabel('Spring Data')\n",
        "plt.xlabel('Time')"
      ]
    },
    {
      "cell_type": "markdown",
      "id": "0f8e0dd0",
      "metadata": {
        "id": "0f8e0dd0"
      },
      "source": [
        "### we were able to see the sin(x) from the visual.  what if we can't visualize? let's try the polynomial fit."
      ]
    },
    {
      "cell_type": "code",
      "execution_count": 84,
      "id": "0e3227e1",
      "metadata": {
        "ExecuteTime": {
          "end_time": "2024-08-11T10:04:20.382101Z",
          "start_time": "2024-08-11T10:04:20.372185Z"
        },
        "colab": {
          "base_uri": "https://localhost:8080/",
          "height": 363
        },
        "id": "0e3227e1",
        "outputId": "bf72d22d-89ff-4b04-91c3-ed5a081a1e0b"
      },
      "outputs": [
        {
          "data": {
            "application/vnd.google.colaboratory.intrinsic+json": {
              "summary": "{\n  \"name\": \"y21\",\n  \"rows\": 226,\n  \"fields\": [\n    {\n      \"column\": \"bias\",\n      \"properties\": {\n        \"dtype\": \"number\",\n        \"std\": 0.0,\n        \"min\": 1.0,\n        \"max\": 1.0,\n        \"num_unique_values\": 1,\n        \"samples\": [\n          1.0\n        ],\n        \"semantic_type\": \"\",\n        \"description\": \"\"\n      }\n    },\n    {\n      \"column\": \"x\",\n      \"properties\": {\n        \"dtype\": \"number\",\n        \"std\": 65,\n        \"min\": 0,\n        \"max\": 225,\n        \"num_unique_values\": 226,\n        \"samples\": [\n          9\n        ],\n        \"semantic_type\": \"\",\n        \"description\": \"\"\n      }\n    },\n    {\n      \"column\": \"x1\",\n      \"properties\": {\n        \"dtype\": \"number\",\n        \"std\": 1.781548682181129,\n        \"min\": -6.13,\n        \"max\": -0.0,\n        \"num_unique_values\": 226,\n        \"samples\": [\n          -0.25\n        ],\n        \"semantic_type\": \"\",\n        \"description\": \"\"\n      }\n    },\n    {\n      \"column\": \"y\",\n      \"properties\": {\n        \"dtype\": \"number\",\n        \"std\": 10.704778380380326,\n        \"min\": -19.91,\n        \"max\": 26.1,\n        \"num_unique_values\": 222,\n        \"samples\": [\n          4.75\n        ],\n        \"semantic_type\": \"\",\n        \"description\": \"\"\n      }\n    }\n  ]\n}",
              "type": "dataframe",
              "variable_name": "y21"
            },
            "text/html": [
              "\n",
              "  <div id=\"df-c2f7fcc0-0b48-403b-b9a5-02d05aafb5cc\" class=\"colab-df-container\">\n",
              "    <div>\n",
              "<style scoped>\n",
              "    .dataframe tbody tr th:only-of-type {\n",
              "        vertical-align: middle;\n",
              "    }\n",
              "\n",
              "    .dataframe tbody tr th {\n",
              "        vertical-align: top;\n",
              "    }\n",
              "\n",
              "    .dataframe thead th {\n",
              "        text-align: right;\n",
              "    }\n",
              "</style>\n",
              "<table border=\"1\" class=\"dataframe\">\n",
              "  <thead>\n",
              "    <tr style=\"text-align: right;\">\n",
              "      <th></th>\n",
              "      <th>bias</th>\n",
              "      <th>x</th>\n",
              "      <th>x1</th>\n",
              "      <th>y</th>\n",
              "    </tr>\n",
              "  </thead>\n",
              "  <tbody>\n",
              "    <tr>\n",
              "      <th>0</th>\n",
              "      <td>1.0</td>\n",
              "      <td>0</td>\n",
              "      <td>-0.00</td>\n",
              "      <td>2.27</td>\n",
              "    </tr>\n",
              "    <tr>\n",
              "      <th>1</th>\n",
              "      <td>1.0</td>\n",
              "      <td>1</td>\n",
              "      <td>-0.03</td>\n",
              "      <td>6.38</td>\n",
              "    </tr>\n",
              "    <tr>\n",
              "      <th>2</th>\n",
              "      <td>1.0</td>\n",
              "      <td>2</td>\n",
              "      <td>-0.05</td>\n",
              "      <td>8.61</td>\n",
              "    </tr>\n",
              "    <tr>\n",
              "      <th>3</th>\n",
              "      <td>1.0</td>\n",
              "      <td>3</td>\n",
              "      <td>-0.08</td>\n",
              "      <td>8.65</td>\n",
              "    </tr>\n",
              "    <tr>\n",
              "      <th>4</th>\n",
              "      <td>1.0</td>\n",
              "      <td>4</td>\n",
              "      <td>-0.11</td>\n",
              "      <td>13.17</td>\n",
              "    </tr>\n",
              "    <tr>\n",
              "      <th>5</th>\n",
              "      <td>1.0</td>\n",
              "      <td>5</td>\n",
              "      <td>-0.14</td>\n",
              "      <td>14.52</td>\n",
              "    </tr>\n",
              "    <tr>\n",
              "      <th>6</th>\n",
              "      <td>1.0</td>\n",
              "      <td>6</td>\n",
              "      <td>-0.16</td>\n",
              "      <td>15.12</td>\n",
              "    </tr>\n",
              "    <tr>\n",
              "      <th>7</th>\n",
              "      <td>1.0</td>\n",
              "      <td>7</td>\n",
              "      <td>-0.19</td>\n",
              "      <td>19.62</td>\n",
              "    </tr>\n",
              "    <tr>\n",
              "      <th>8</th>\n",
              "      <td>1.0</td>\n",
              "      <td>8</td>\n",
              "      <td>-0.22</td>\n",
              "      <td>18.91</td>\n",
              "    </tr>\n",
              "    <tr>\n",
              "      <th>9</th>\n",
              "      <td>1.0</td>\n",
              "      <td>9</td>\n",
              "      <td>-0.25</td>\n",
              "      <td>23.17</td>\n",
              "    </tr>\n",
              "  </tbody>\n",
              "</table>\n",
              "</div>\n",
              "    <div class=\"colab-df-buttons\">\n",
              "\n",
              "  <div class=\"colab-df-container\">\n",
              "    <button class=\"colab-df-convert\" onclick=\"convertToInteractive('df-c2f7fcc0-0b48-403b-b9a5-02d05aafb5cc')\"\n",
              "            title=\"Convert this dataframe to an interactive table.\"\n",
              "            style=\"display:none;\">\n",
              "\n",
              "  <svg xmlns=\"http://www.w3.org/2000/svg\" height=\"24px\" viewBox=\"0 -960 960 960\">\n",
              "    <path d=\"M120-120v-720h720v720H120Zm60-500h600v-160H180v160Zm220 220h160v-160H400v160Zm0 220h160v-160H400v160ZM180-400h160v-160H180v160Zm440 0h160v-160H620v160ZM180-180h160v-160H180v160Zm440 0h160v-160H620v160Z\"/>\n",
              "  </svg>\n",
              "    </button>\n",
              "\n",
              "  <style>\n",
              "    .colab-df-container {\n",
              "      display:flex;\n",
              "      gap: 12px;\n",
              "    }\n",
              "\n",
              "    .colab-df-convert {\n",
              "      background-color: #E8F0FE;\n",
              "      border: none;\n",
              "      border-radius: 50%;\n",
              "      cursor: pointer;\n",
              "      display: none;\n",
              "      fill: #1967D2;\n",
              "      height: 32px;\n",
              "      padding: 0 0 0 0;\n",
              "      width: 32px;\n",
              "    }\n",
              "\n",
              "    .colab-df-convert:hover {\n",
              "      background-color: #E2EBFA;\n",
              "      box-shadow: 0px 1px 2px rgba(60, 64, 67, 0.3), 0px 1px 3px 1px rgba(60, 64, 67, 0.15);\n",
              "      fill: #174EA6;\n",
              "    }\n",
              "\n",
              "    .colab-df-buttons div {\n",
              "      margin-bottom: 4px;\n",
              "    }\n",
              "\n",
              "    [theme=dark] .colab-df-convert {\n",
              "      background-color: #3B4455;\n",
              "      fill: #D2E3FC;\n",
              "    }\n",
              "\n",
              "    [theme=dark] .colab-df-convert:hover {\n",
              "      background-color: #434B5C;\n",
              "      box-shadow: 0px 1px 3px 1px rgba(0, 0, 0, 0.15);\n",
              "      filter: drop-shadow(0px 1px 2px rgba(0, 0, 0, 0.3));\n",
              "      fill: #FFFFFF;\n",
              "    }\n",
              "  </style>\n",
              "\n",
              "    <script>\n",
              "      const buttonEl =\n",
              "        document.querySelector('#df-c2f7fcc0-0b48-403b-b9a5-02d05aafb5cc button.colab-df-convert');\n",
              "      buttonEl.style.display =\n",
              "        google.colab.kernel.accessAllowed ? 'block' : 'none';\n",
              "\n",
              "      async function convertToInteractive(key) {\n",
              "        const element = document.querySelector('#df-c2f7fcc0-0b48-403b-b9a5-02d05aafb5cc');\n",
              "        const dataTable =\n",
              "          await google.colab.kernel.invokeFunction('convertToInteractive',\n",
              "                                                    [key], {});\n",
              "        if (!dataTable) return;\n",
              "\n",
              "        const docLinkHtml = 'Like what you see? Visit the ' +\n",
              "          '<a target=\"_blank\" href=https://colab.research.google.com/notebooks/data_table.ipynb>data table notebook</a>'\n",
              "          + ' to learn more about interactive tables.';\n",
              "        element.innerHTML = '';\n",
              "        dataTable['output_type'] = 'display_data';\n",
              "        await google.colab.output.renderOutput(dataTable, element);\n",
              "        const docLink = document.createElement('div');\n",
              "        docLink.innerHTML = docLinkHtml;\n",
              "        element.appendChild(docLink);\n",
              "      }\n",
              "    </script>\n",
              "  </div>\n",
              "\n",
              "\n",
              "<div id=\"df-eb7763e6-03e9-42e5-a6e8-9f82bd3f8f85\">\n",
              "  <button class=\"colab-df-quickchart\" onclick=\"quickchart('df-eb7763e6-03e9-42e5-a6e8-9f82bd3f8f85')\"\n",
              "            title=\"Suggest charts\"\n",
              "            style=\"display:none;\">\n",
              "\n",
              "<svg xmlns=\"http://www.w3.org/2000/svg\" height=\"24px\"viewBox=\"0 0 24 24\"\n",
              "     width=\"24px\">\n",
              "    <g>\n",
              "        <path d=\"M19 3H5c-1.1 0-2 .9-2 2v14c0 1.1.9 2 2 2h14c1.1 0 2-.9 2-2V5c0-1.1-.9-2-2-2zM9 17H7v-7h2v7zm4 0h-2V7h2v10zm4 0h-2v-4h2v4z\"/>\n",
              "    </g>\n",
              "</svg>\n",
              "  </button>\n",
              "\n",
              "<style>\n",
              "  .colab-df-quickchart {\n",
              "      --bg-color: #E8F0FE;\n",
              "      --fill-color: #1967D2;\n",
              "      --hover-bg-color: #E2EBFA;\n",
              "      --hover-fill-color: #174EA6;\n",
              "      --disabled-fill-color: #AAA;\n",
              "      --disabled-bg-color: #DDD;\n",
              "  }\n",
              "\n",
              "  [theme=dark] .colab-df-quickchart {\n",
              "      --bg-color: #3B4455;\n",
              "      --fill-color: #D2E3FC;\n",
              "      --hover-bg-color: #434B5C;\n",
              "      --hover-fill-color: #FFFFFF;\n",
              "      --disabled-bg-color: #3B4455;\n",
              "      --disabled-fill-color: #666;\n",
              "  }\n",
              "\n",
              "  .colab-df-quickchart {\n",
              "    background-color: var(--bg-color);\n",
              "    border: none;\n",
              "    border-radius: 50%;\n",
              "    cursor: pointer;\n",
              "    display: none;\n",
              "    fill: var(--fill-color);\n",
              "    height: 32px;\n",
              "    padding: 0;\n",
              "    width: 32px;\n",
              "  }\n",
              "\n",
              "  .colab-df-quickchart:hover {\n",
              "    background-color: var(--hover-bg-color);\n",
              "    box-shadow: 0 1px 2px rgba(60, 64, 67, 0.3), 0 1px 3px 1px rgba(60, 64, 67, 0.15);\n",
              "    fill: var(--button-hover-fill-color);\n",
              "  }\n",
              "\n",
              "  .colab-df-quickchart-complete:disabled,\n",
              "  .colab-df-quickchart-complete:disabled:hover {\n",
              "    background-color: var(--disabled-bg-color);\n",
              "    fill: var(--disabled-fill-color);\n",
              "    box-shadow: none;\n",
              "  }\n",
              "\n",
              "  .colab-df-spinner {\n",
              "    border: 2px solid var(--fill-color);\n",
              "    border-color: transparent;\n",
              "    border-bottom-color: var(--fill-color);\n",
              "    animation:\n",
              "      spin 1s steps(1) infinite;\n",
              "  }\n",
              "\n",
              "  @keyframes spin {\n",
              "    0% {\n",
              "      border-color: transparent;\n",
              "      border-bottom-color: var(--fill-color);\n",
              "      border-left-color: var(--fill-color);\n",
              "    }\n",
              "    20% {\n",
              "      border-color: transparent;\n",
              "      border-left-color: var(--fill-color);\n",
              "      border-top-color: var(--fill-color);\n",
              "    }\n",
              "    30% {\n",
              "      border-color: transparent;\n",
              "      border-left-color: var(--fill-color);\n",
              "      border-top-color: var(--fill-color);\n",
              "      border-right-color: var(--fill-color);\n",
              "    }\n",
              "    40% {\n",
              "      border-color: transparent;\n",
              "      border-right-color: var(--fill-color);\n",
              "      border-top-color: var(--fill-color);\n",
              "    }\n",
              "    60% {\n",
              "      border-color: transparent;\n",
              "      border-right-color: var(--fill-color);\n",
              "    }\n",
              "    80% {\n",
              "      border-color: transparent;\n",
              "      border-right-color: var(--fill-color);\n",
              "      border-bottom-color: var(--fill-color);\n",
              "    }\n",
              "    90% {\n",
              "      border-color: transparent;\n",
              "      border-bottom-color: var(--fill-color);\n",
              "    }\n",
              "  }\n",
              "</style>\n",
              "\n",
              "  <script>\n",
              "    async function quickchart(key) {\n",
              "      const quickchartButtonEl =\n",
              "        document.querySelector('#' + key + ' button');\n",
              "      quickchartButtonEl.disabled = true;  // To prevent multiple clicks.\n",
              "      quickchartButtonEl.classList.add('colab-df-spinner');\n",
              "      try {\n",
              "        const charts = await google.colab.kernel.invokeFunction(\n",
              "            'suggestCharts', [key], {});\n",
              "      } catch (error) {\n",
              "        console.error('Error during call to suggestCharts:', error);\n",
              "      }\n",
              "      quickchartButtonEl.classList.remove('colab-df-spinner');\n",
              "      quickchartButtonEl.classList.add('colab-df-quickchart-complete');\n",
              "    }\n",
              "    (() => {\n",
              "      let quickchartButtonEl =\n",
              "        document.querySelector('#df-eb7763e6-03e9-42e5-a6e8-9f82bd3f8f85 button');\n",
              "      quickchartButtonEl.style.display =\n",
              "        google.colab.kernel.accessAllowed ? 'block' : 'none';\n",
              "    })();\n",
              "  </script>\n",
              "</div>\n",
              "\n",
              "    </div>\n",
              "  </div>\n"
            ],
            "text/plain": [
              "   bias  x    x1      y\n",
              "0   1.0  0 -0.00   2.27\n",
              "1   1.0  1 -0.03   6.38\n",
              "2   1.0  2 -0.05   8.61\n",
              "3   1.0  3 -0.08   8.65\n",
              "4   1.0  4 -0.11  13.17\n",
              "5   1.0  5 -0.14  14.52\n",
              "6   1.0  6 -0.16  15.12\n",
              "7   1.0  7 -0.19  19.62\n",
              "8   1.0  8 -0.22  18.91\n",
              "9   1.0  9 -0.25  23.17"
            ]
          },
          "execution_count": 84,
          "metadata": {},
          "output_type": "execute_result"
        }
      ],
      "source": [
        "x1 = round(y2.x*beta2[1],2)\n",
        "\n",
        "y21 = pd.DataFrame({\"bias\":np.ones(226),\"x\":range(226), \"x1\":x1, \"y\":data.SpringPos})\n",
        "y21.head(10)"
      ]
    },
    {
      "cell_type": "markdown",
      "id": "82dfd337",
      "metadata": {
        "id": "82dfd337"
      },
      "source": [
        "### create the data matrices from the data frame"
      ]
    },
    {
      "cell_type": "code",
      "execution_count": 85,
      "id": "8bf26639",
      "metadata": {
        "ExecuteTime": {
          "end_time": "2024-08-11T10:04:21.340430Z",
          "start_time": "2024-08-11T10:04:21.336630Z"
        },
        "id": "8bf26639"
      },
      "outputs": [],
      "source": [
        "# here we don't need the explicit bias feature column, as polynomial features would include it already (x^0 = 1)\n",
        "xx = np.array(y21[['x1']])\n",
        "yy = np.array(y2.y)"
      ]
    },
    {
      "cell_type": "markdown",
      "id": "cc6ab8fa",
      "metadata": {
        "id": "cc6ab8fa"
      },
      "source": [
        "### let's use the polynomial features generator instead of manually doing it."
      ]
    },
    {
      "cell_type": "code",
      "execution_count": 113,
      "id": "a40cb26f",
      "metadata": {
        "ExecuteTime": {
          "end_time": "2024-08-11T10:30:26.927289Z",
          "start_time": "2024-08-11T10:30:26.923647Z"
        },
        "id": "a40cb26f"
      },
      "outputs": [],
      "source": [
        "from sklearn.preprocessing import PolynomialFeatures\n",
        "poly_transformer = PolynomialFeatures(degree = 16)   # 16, 17\n",
        "X_poly = poly_transformer.fit_transform(xx)"
      ]
    },
    {
      "cell_type": "markdown",
      "id": "69hmdj5NkweG",
      "metadata": {
        "id": "69hmdj5NkweG"
      },
      "source": [
        "##  Degree 16 gives the correct fit to the model after a Linear search"
      ]
    },
    {
      "cell_type": "markdown",
      "id": "1b56f9bf",
      "metadata": {
        "ExecuteTime": {
          "end_time": "2024-08-11T10:00:53.281808Z",
          "start_time": "2024-08-11T10:00:53.277419Z"
        },
        "id": "1b56f9bf"
      },
      "source": [
        "### fit the model and estimate the loss"
      ]
    },
    {
      "cell_type": "code",
      "execution_count": 87,
      "id": "dfa55304",
      "metadata": {
        "ExecuteTime": {
          "end_time": "2024-08-11T10:30:27.845873Z",
          "start_time": "2024-08-11T10:30:27.836514Z"
        },
        "colab": {
          "base_uri": "https://localhost:8080/"
        },
        "id": "dfa55304",
        "outputId": "9110dd49-7749-4f57-f550-bd23c0bf0e78"
      },
      "outputs": [
        {
          "name": "stdout",
          "output_type": "stream",
          "text": [
            "Intercept= 2.5345165443987443 Beta =  [ 0.00000000e+00 -1.04239146e+02 -9.37348434e+01  3.20203487e+01\n",
            " -8.80678919e+01 -4.29351600e+01  1.56145296e+02  5.07605921e+01\n",
            " -1.69359525e+02 -1.98275913e+02 -1.06181859e+02 -3.41824266e+01\n",
            " -7.12533493e+00 -9.74139245e-01 -8.46890422e-02 -4.26004775e-03\n",
            " -9.46150733e-05]\n",
            "SSE =  459.09705056395785\n"
          ]
        }
      ],
      "source": [
        "from sklearn.linear_model import LinearRegression\n",
        "model = LinearRegression().fit(X_poly, yy)\n",
        "print(\"Intercept=\", model.intercept_, \"Beta = \", model.coef_)\n",
        "yhat4 = model.predict(X_poly)\n",
        "\n",
        "#beta4 = estimateBeta(X_poly, yy)\n",
        "#print(\"Beta = \", beta4)\n",
        "#yhat4 = predict(beta4, X_poly)\n",
        "\n",
        "loss = SSE(yy, yhat4)\n",
        "print(\"SSE = \", loss)"
      ]
    },
    {
      "cell_type": "code",
      "execution_count": 87,
      "id": "7bf55277",
      "metadata": {
        "ExecuteTime": {
          "end_time": "2024-08-11T10:28:17.227856Z",
          "start_time": "2024-08-11T10:28:17.223470Z"
        },
        "id": "7bf55277"
      },
      "outputs": [],
      "source": []
    },
    {
      "cell_type": "markdown",
      "id": "991c4cca",
      "metadata": {
        "id": "991c4cca"
      },
      "source": [
        "### Let's plot the raw data and the regression line on the same plot"
      ]
    },
    {
      "cell_type": "code",
      "execution_count": 88,
      "id": "954a38cb",
      "metadata": {
        "ExecuteTime": {
          "end_time": "2024-08-11T10:37:14.958872Z",
          "start_time": "2024-08-11T10:37:14.880731Z"
        },
        "colab": {
          "base_uri": "https://localhost:8080/",
          "height": 449
        },
        "id": "954a38cb",
        "outputId": "42ef2616-caac-4548-f9c2-bc8286db46bf"
      },
      "outputs": [
        {
          "data": {
            "image/png": "[encoded data removed]",
            "text/plain": [
              "<Figure size 640x480 with 1 Axes>"
            ]
          },
          "metadata": {},
          "output_type": "display_data"
        }
      ],
      "source": [
        "plt.plot(y2.x, y2.y, 'r+')\n",
        "plt.plot(y2.x, yhat4, 'b-')\n",
        "plt.ylabel('Spring Data')\n",
        "plt.xlabel('Time')\n",
        "plt.legend(['data points from Spring', 'OLS'], loc='upper left')\n",
        "plt.show()"
      ]
    },
    {
      "cell_type": "markdown",
      "id": "de2abd85",
      "metadata": {
        "id": "de2abd85"
      },
      "source": [
        "### Brilliant, how to I find the best degree automatically without performing a linear search!"
      ]
    },
    {
      "cell_type": "code",
      "execution_count": 89,
      "id": "f92b138e",
      "metadata": {
        "ExecuteTime": {
          "end_time": "2024-08-11T10:32:22.895646Z",
          "start_time": "2024-08-11T10:32:22.358791Z"
        },
        "colab": {
          "base_uri": "https://localhost:8080/"
        },
        "id": "f92b138e",
        "outputId": "dbc61a10-f799-481f-ba44-de75d1c1cbf7"
      },
      "outputs": [
        {
          "name": "stdout",
          "output_type": "stream",
          "text": [
            "Beta = [ 0.00000000e+00  0.00000000e+00 -0.00000000e+00  0.00000000e+00\n",
            " -0.00000000e+00  0.00000000e+00 -0.00000000e+00  0.00000000e+00\n",
            " -6.20772761e-05  8.51954667e-06  1.91467709e-06 -3.23626926e-07\n",
            "  3.70281039e-08 -2.44169353e-09 -2.27613850e-10  1.22899311e-10\n",
            " -2.87804959e-11]\n",
            "SSE = 25157.729896630946\n"
          ]
        },
        {
          "name": "stderr",
          "output_type": "stream",
          "text": [
            "/usr/local/lib/python3.10/dist-packages/sklearn/linear_model/_coordinate_descent.py:628: ConvergenceWarning: Objective did not converge. You might want to increase the number of iterations, check the scale of the features or consider increasing regularisation. Duality gap: 1.259e+04, tolerance: 2.578e+00\n",
            "  model = cd_fast.enet_coordinate_descent(\n"
          ]
        }
      ],
      "source": [
        "from sklearn.linear_model import Lasso, Ridge\n",
        "model5 = Lasso(alpha=500, max_iter=50000).fit(X_poly, yy)\n",
        "#model5 = Ridge(alpha=5220).fit(X_poly,yy)\n",
        "print(\"Beta =\", model5.coef_)\n",
        "yhat5 = model5.predict(X_poly)\n",
        "loss = SSE(yy, yhat5)\n",
        "print(\"SSE =\", loss)"
      ]
    },
    {
      "cell_type": "markdown",
      "id": "eneOJ6SLjXmP",
      "metadata": {
        "id": "eneOJ6SLjXmP"
      },
      "source": [
        "## Plot the Data, Poly Fir, Poly and Lasso fit, Line-Fit and Line+Sinusoid"
      ]
    },
    {
      "cell_type": "code",
      "execution_count": 90,
      "id": "025c77d7",
      "metadata": {
        "ExecuteTime": {
          "end_time": "2024-08-11T10:43:14.817169Z",
          "start_time": "2024-08-11T10:43:14.724128Z"
        },
        "colab": {
          "base_uri": "https://localhost:8080/",
          "height": 449
        },
        "id": "025c77d7",
        "outputId": "8902596d-8d82-4059-845e-8f2212775f2b"
      },
      "outputs": [
        {
          "data": {
            "image/png": "[encoded data removed]",
            "text/plain": [
              "<Figure size 640x480 with 1 Axes>"
            ]
          },
          "metadata": {},
          "output_type": "display_data"
        }
      ],
      "source": [
        "plt.ylabel('Spring Data')\n",
        "plt.xlabel('Time')\n",
        "plt.plot(y2.x, y2.y, 'r+')\n",
        "plt.plot(y2.x, yhat4, 'b-')\n",
        "plt.plot(y2.x, yhat5, 'g-')\n",
        "plt.plot(y2.x, yhat2, '--')\n",
        "plt.plot(y2.x, yhat3, 'k')\n",
        "plt.legend(['Spring data', 'PolynomialFit', 'Poly+Lasso', 'LineFit', 'Line+Sinusoid'], loc='upper left')\n",
        "plt.show()"
      ]
    },
    {
      "cell_type": "markdown",
      "id": "03674f4b",
      "metadata": {
        "id": "03674f4b"
      },
      "source": [
        "### what if closed form is not possible?  Gradient descent comes to the rescue."
      ]
    },
    {
      "cell_type": "markdown",
      "id": "4ed4400b",
      "metadata": {
        "id": "4ed4400b"
      },
      "source": [
        "Let's consider solving the LineFit problem in the Gradient Descent style.\n",
        "\n",
        "As long as our mathematical model of the system is differentiable (gradients are computable), our loss function $\\mathcal{L} = (y-\\hat{y})^2$ remains differentiable.\n",
        "\n",
        "Our linear model is given by $\\hat{y} = \\beta_0 + \\beta_1 x = X^\\top\\beta$ and the loss is given by $\\mathcal{L} = [y - (\\beta_0 + \\beta_1 x)]^2 = [y-X^\\top\\beta]^\\top[y-X^\\top\\beta]$\n",
        "\n",
        "The average loss gradients for the full dataset are given by $\\frac{\\partial\\mathcal{L}}{\\partial\\beta_0} = \\frac{-2}{N} \\sum (y-\\hat{y}) $ and $\\frac{\\partial\\mathcal{L}}{\\partial\\beta_1} = \\frac{-2}{N} \\sum X^\\top(y-\\hat{y})$"
      ]
    },
    {
      "cell_type": "markdown",
      "id": "baa86550",
      "metadata": {
        "id": "baa86550"
      },
      "source": [
        "### the GD algorithm"
      ]
    },
    {
      "cell_type": "markdown",
      "id": "53b5cc48",
      "metadata": {
        "id": "53b5cc48"
      },
      "source": [
        "* Choose the mathematical model; ensure it's continuous and differentiable.\n",
        "* Initialize the model parameters to random numbers.  Usually they are sampled from standard normal distribution.\n",
        "* Compute the gradient of the loss based on the current model parametric setting.\n",
        "* Update the parameters using $\\beta_i \\leftarrow \\beta_i + \\eta \\frac{\\partial\\mathcal{L}}{\\partial\\beta_i}$\n",
        "* Repeat the last two steps until the loss minimizes to the required target or it reaches a plateau.  If the loss increases, you have done something incorrectly."
      ]
    },
    {
      "cell_type": "markdown",
      "id": "37c78c0e",
      "metadata": {
        "id": "37c78c0e"
      },
      "source": [
        "### let's implement the gradient descent algorithm for the linefit solution."
      ]
    },
    {
      "cell_type": "code",
      "execution_count": 91,
      "id": "f064e691",
      "metadata": {
        "ExecuteTime": {
          "end_time": "2024-08-11T12:46:23.725205Z",
          "start_time": "2024-08-11T12:46:23.717800Z"
        },
        "id": "f064e691"
      },
      "outputs": [],
      "source": [
        "from tqdm.auto import tqdm\n",
        "\n",
        "class MyLineFitViaGD:\n",
        "    def __init__(self, learning_rate=0.0001, n_iters=10_000):\n",
        "        self.lr = learning_rate\n",
        "        self.n_iters = n_iters\n",
        "        self.weights = None\n",
        "        self.bias = None\n",
        "\n",
        "    def fit(self, X, y):\n",
        "        n_samples, n_features = X.shape\n",
        "        # init parameters\n",
        "        self.weights = np.random.randn(n_features)\n",
        "        self.bias = np.random.randn(1)\n",
        "        # gradient descent\n",
        "        tq = tqdm(range(self.n_iters), desc=\"Iterations\")\n",
        "        for _ in  tq:\n",
        "            # approximate y with linear combination of weights and x, plus bias\n",
        "            y_predicted = np.matmul(X, self.weights) + self.bias\n",
        "\n",
        "            # compute the gap between true and predicted outputs.\n",
        "            diff = y_predicted - y\n",
        "            loss = np.sum(diff * diff)\n",
        "\n",
        "            # compute gradients\n",
        "            dw = (1 / n_samples) * np.matmul(X.T, diff)\n",
        "            db = (1 / n_samples) * np.sum(diff)\n",
        "            # update parameters\n",
        "            self.weights  = self.weights - self.lr * dw\n",
        "            self.bias  = self.bias -  self.lr * db\n",
        "\n",
        "            # display the loss on the progress bar.\n",
        "            tq.set_postfix({\"Loss\":loss})\n",
        "\n",
        "    @property\n",
        "    def parameters(self):\n",
        "        return self.bias, self.weights\n",
        "\n",
        "    def predict(self, X):\n",
        "        y_predicted = np.dot(X, self.weights) + self.bias\n",
        "        return y_predicted"
      ]
    },
    {
      "cell_type": "markdown",
      "id": "28babcae",
      "metadata": {
        "id": "28babcae"
      },
      "source": [
        "### recall our linear fit dataset and construct the dataset matrices again"
      ]
    },
    {
      "cell_type": "code",
      "execution_count": 92,
      "id": "9d70db5a",
      "metadata": {
        "ExecuteTime": {
          "end_time": "2024-08-11T12:39:37.711969Z",
          "start_time": "2024-08-11T12:39:37.705751Z"
        },
        "colab": {
          "base_uri": "https://localhost:8080/"
        },
        "id": "9d70db5a",
        "outputId": "aa8c3f80-257a-42da-acdf-b64b573f09a4"
      },
      "outputs": [
        {
          "name": "stdout",
          "output_type": "stream",
          "text": [
            "   bias  x      y\n",
            "0   1.0  0   2.27\n",
            "1   1.0  1   6.38\n",
            "2   1.0  2   8.61\n",
            "3   1.0  3   8.65\n",
            "4   1.0  4  13.17\n"
          ]
        }
      ],
      "source": [
        "print(y2df.head())\n",
        "yy = np.array(y2df.y)\n",
        "xx = np.array(y2df[[\"x\"]])  # no need for \"bias\", as our GD method factors it already."
      ]
    },
    {
      "cell_type": "markdown",
      "id": "5856ced2",
      "metadata": {
        "id": "5856ced2"
      },
      "source": [
        "### let's now build the model via Gradient Descent"
      ]
    },
    {
      "cell_type": "code",
      "execution_count": 93,
      "id": "8527f603",
      "metadata": {
        "ExecuteTime": {
          "end_time": "2024-08-11T12:47:26.106370Z",
          "start_time": "2024-08-11T12:47:26.103687Z"
        },
        "id": "8527f603"
      },
      "outputs": [],
      "source": [
        "gdmodel = MyLineFitViaGD(learning_rate=0.000001, n_iters=5000)"
      ]
    },
    {
      "cell_type": "code",
      "execution_count": 94,
      "id": "9de3aa00",
      "metadata": {
        "ExecuteTime": {
          "end_time": "2024-08-11T12:47:27.729257Z",
          "start_time": "2024-08-11T12:47:27.052196Z"
        },
        "colab": {
          "base_uri": "https://localhost:8080/",
          "height": 49,
          "referenced_widgets": [
            "22b1a158ca81430ba489d78f628dc656",
            "32f22bcb0c5448f6bc5d72a6c16654bd",
            "a0a34b585e684ec081698ea3759a1865",
            "28033796d711436d89dff085324942ed",
            "ca4706a7748b4d5e86cf11fe20e735a4",
            "36f1282f375c4ce69e73287175df4ec8",
            "198395093d8747819cb5b8c535f7b395",
            "09bf4d03eace42beb72a546439ff98d2",
            "8dd02f3949b04c27908d08547961404a",
            "a9a36dbc65a44226a152ad3dea303e83",
            "2cc425969e5140ef8082c2668773b9b3"
          ]
        },
        "id": "9de3aa00",
        "outputId": "49e598dc-e3a5-4abb-f14b-c1feefea6bda"
      },
      "outputs": [
        {
          "data": {
            "application/vnd.jupyter.widget-view+json": {
              "model_id": "22b1a158ca81430ba489d78f628dc656",
              "version_major": 2,
              "version_minor": 0
            },
            "text/plain": [
              "Iterations:   0%|          | 0/5000 [00:00<?, ?it/s]"
            ]
          },
          "metadata": {},
          "output_type": "display_data"
        }
      ],
      "source": [
        "# fit the model and estimate the yhat values.\n",
        "gdmodel.fit(xx, yy)"
      ]
    },
    {
      "cell_type": "code",
      "execution_count": 95,
      "id": "84b87383",
      "metadata": {
        "ExecuteTime": {
          "end_time": "2024-08-11T12:47:29.347531Z",
          "start_time": "2024-08-11T12:47:29.343760Z"
        },
        "colab": {
          "base_uri": "https://localhost:8080/"
        },
        "id": "84b87383",
        "outputId": "d3f10822-864f-4a6a-d041-207f53dccc7a"
      },
      "outputs": [
        {
          "name": "stdout",
          "output_type": "stream",
          "text": [
            "Bias = [-0.52119076]  Weights = [0.02178939]\n"
          ]
        }
      ],
      "source": [
        "#get the learned parameters from the model.\n",
        "bias, weights = gdmodel.parameters\n",
        "print(\"Bias =\", bias, \" Weights =\", weights)"
      ]
    },
    {
      "cell_type": "code",
      "execution_count": 96,
      "id": "864b2595",
      "metadata": {
        "ExecuteTime": {
          "end_time": "2024-08-11T12:47:58.192485Z",
          "start_time": "2024-08-11T12:47:58.189556Z"
        },
        "id": "864b2595"
      },
      "outputs": [],
      "source": [
        "# use the model to predict the yhat values.\n",
        "yhat6 = gdmodel.predict(xx)"
      ]
    },
    {
      "cell_type": "code",
      "execution_count": 97,
      "id": "fb946f99",
      "metadata": {
        "ExecuteTime": {
          "end_time": "2024-08-11T12:48:29.572145Z",
          "start_time": "2024-08-11T12:48:29.568994Z"
        },
        "colab": {
          "base_uri": "https://localhost:8080/"
        },
        "id": "fb946f99",
        "outputId": "38203442-91b7-4230-e57d-b375cbdc368e"
      },
      "outputs": [
        {
          "name": "stdout",
          "output_type": "stream",
          "text": [
            "Loss = 28159.890484875057\n"
          ]
        }
      ],
      "source": [
        "# estimate the loss again and display\n",
        "loss = SSE(yy, yhat6)\n",
        "print (\"Loss =\", loss)"
      ]
    },
    {
      "cell_type": "markdown",
      "id": "90b70bc5",
      "metadata": {
        "id": "90b70bc5"
      },
      "source": [
        "### let's visualize and compare the linear fits estimated by OLS and GD."
      ]
    },
    {
      "cell_type": "code",
      "execution_count": 98,
      "id": "3ff36d19",
      "metadata": {
        "ExecuteTime": {
          "end_time": "2024-08-11T12:44:15.137917Z",
          "start_time": "2024-08-11T12:44:15.060436Z"
        },
        "colab": {
          "base_uri": "https://localhost:8080/",
          "height": 449
        },
        "id": "3ff36d19",
        "outputId": "56ab4731-c5b3-4b73-c5a0-6f0874ce013e"
      },
      "outputs": [
        {
          "data": {
            "image/png": "[encoded data removed]",
            "text/plain": [
              "<Figure size 640x480 with 1 Axes>"
            ]
          },
          "metadata": {},
          "output_type": "display_data"
        }
      ],
      "source": [
        "plt.plot(y2.x, y2.y, 'r+')\n",
        "yhat1 = predict(beta, y2.x)\n",
        "plt.plot(y2.x, yhat1, 'b-')\n",
        "plt.plot(y2.x, yhat6, 'g-')\n",
        "plt.ylabel('Spring Data')\n",
        "plt.xlabel('Time')\n",
        "plt.legend(['Spring Data', 'LineFit+OLS', 'LineFit+GD'], loc='upper left')\n",
        "plt.show()"
      ]
    },
    {
      "cell_type": "markdown",
      "id": "efa2f37a",
      "metadata": {
        "id": "efa2f37a"
      },
      "source": [
        "### let's try GD on our sinusoidal mathematical model\n",
        "\n",
        "Now, our mathematical model of system is given by $\\hat{y} = \\beta_0 + \\beta_1 x + \\beta_2\\cdot\\sin(\\beta_3 x)$\n",
        "\n",
        "$\\frac{\\partial\\mathcal{L}}{\\partial\\beta_0} = \\frac{-2}{N} \\sum (y-\\hat{y})$\n",
        "\n",
        "$\\frac{\\partial\\mathcal{L}}{\\partial\\beta_1} = \\frac{-2}{N} \\sum X^\\top(y-\\hat{y})$\n",
        "\n",
        "$\\frac{\\partial\\mathcal{L}}{\\partial\\beta_2} = \\frac{-2}{N} \\sum \\sin(\\beta_3 X)^\\top(y-\\hat{y})$\n",
        "\n",
        "$\\frac{\\partial\\mathcal{L}}{\\partial\\beta_3} = \\frac{-2}{N} \\sum (\\beta_2\\cos(\\beta_3 X) \\cdot X)^\\top(y-\\hat{y})$"
      ]
    },
    {
      "cell_type": "code",
      "execution_count": 99,
      "id": "aee8a6d9",
      "metadata": {
        "id": "aee8a6d9"
      },
      "outputs": [],
      "source": [
        "class MySinusoidFitViaGD:\n",
        "    def __init__(self, learning_rate=0.0001, n_iters=10_000):\n",
        "        self.lr = learning_rate\n",
        "        self.n_iters = n_iters\n",
        "        # init parameters\n",
        "        self.m1 = np.abs(np.random.randn(1))\n",
        "        self.m2 = np.abs(np.random.randn(1))\n",
        "        # if I set this to random, convergence is not happening.  Choosing an initial value around 1.0 help convergence.\n",
        "        self.m3 = [1] #np.abs(np.random.randn(1))\n",
        "        self.bias = np.random.randn(1)\n",
        "        print(f\"Initial Params: Bias={self.bias[0]} M1={self.m1[0]}, M2={self.m2[0]}, M3={self.m3[0]}\")\n",
        "\n",
        "    def fit(self, X, y):\n",
        "        n_samples, n_features = X.shape\n",
        "        # gradient descent\n",
        "        tq = tqdm(range(self.n_iters), desc=\"Iterations\")\n",
        "        # placeholder to capture the loss trend.\n",
        "        history = []\n",
        "\n",
        "        for _ in  tq:\n",
        "            # approximate y with linear combination of weights and x, plus bias\n",
        "            y_predicted = self.predict(X)\n",
        "\n",
        "            # compute the gap between true and predicted outputs.\n",
        "            diff = y - y_predicted\n",
        "            loss = SSE(y, y_predicted)\n",
        "\n",
        "            # compute gradients\n",
        "            dm1 = (-2 / n_samples) * np.matmul(X.T, diff)\n",
        "            dm2 = (-2 / n_samples) * np.matmul(np.sin(self.m3*X).T, diff)\n",
        "            dm3 = (-2 / n_samples) * np.matmul((X *self.m2* np.cos(self.m3*X)).T, diff)\n",
        "            db  = (-2 / n_samples) * np.sum(diff)\n",
        "\n",
        "            # update parameters\n",
        "            self.m1  = self.m1 - self.lr * dm1\n",
        "            self.m2  = self.m2 - self.lr * dm2\n",
        "            self.m3  = self.m3 - self.lr * dm3\n",
        "            self.bias= self.bias -  self.lr * db\n",
        "\n",
        "            # display the loss on the progress bar.\n",
        "            tq.set_postfix({\"Loss\":loss})\n",
        "\n",
        "            record = self.parameters\n",
        "            record.append(loss)\n",
        "            history.append(record)\n",
        "\n",
        "        #print(history)\n",
        "        #return history\n",
        "        return np.array(history)\n",
        "\n",
        "    @property\n",
        "    def parameters(self):\n",
        "        return [self.bias[0], self.m1[0][0], self.m2[0][0], self.m3[0][0]]\n",
        "\n",
        "    def predict(self, X):\n",
        "        y_predicted = self.bias + self.m1*X + self.m2*np.sin(self.m3*X)\n",
        "        return y_predicted"
      ]
    },
    {
      "cell_type": "code",
      "execution_count": 100,
      "id": "e4c1761e",
      "metadata": {
        "colab": {
          "base_uri": "https://localhost:8080/",
          "height": 206
        },
        "id": "e4c1761e",
        "outputId": "237dcab2-fd66-4556-89e2-b76b3bd9a3b3"
      },
      "outputs": [
        {
          "data": {
            "application/vnd.google.colaboratory.intrinsic+json": {
              "summary": "{\n  \"name\": \"y21\",\n  \"rows\": 226,\n  \"fields\": [\n    {\n      \"column\": \"bias\",\n      \"properties\": {\n        \"dtype\": \"number\",\n        \"std\": 0.0,\n        \"min\": 1.0,\n        \"max\": 1.0,\n        \"num_unique_values\": 1,\n        \"samples\": [\n          1.0\n        ],\n        \"semantic_type\": \"\",\n        \"description\": \"\"\n      }\n    },\n    {\n      \"column\": \"x\",\n      \"properties\": {\n        \"dtype\": \"number\",\n        \"std\": 65,\n        \"min\": 0,\n        \"max\": 225,\n        \"num_unique_values\": 226,\n        \"samples\": [\n          9\n        ],\n        \"semantic_type\": \"\",\n        \"description\": \"\"\n      }\n    },\n    {\n      \"column\": \"x1\",\n      \"properties\": {\n        \"dtype\": \"number\",\n        \"std\": 1.781548682181129,\n        \"min\": -6.13,\n        \"max\": -0.0,\n        \"num_unique_values\": 226,\n        \"samples\": [\n          -0.25\n        ],\n        \"semantic_type\": \"\",\n        \"description\": \"\"\n      }\n    },\n    {\n      \"column\": \"y\",\n      \"properties\": {\n        \"dtype\": \"number\",\n        \"std\": 10.704778380380326,\n        \"min\": -19.91,\n        \"max\": 26.1,\n        \"num_unique_values\": 222,\n        \"samples\": [\n          4.75\n        ],\n        \"semantic_type\": \"\",\n        \"description\": \"\"\n      }\n    }\n  ]\n}",
              "type": "dataframe",
              "variable_name": "y21"
            },
            "text/html": [
              "\n",
              "  <div id=\"df-57ad20cd-38c4-4af9-9856-32b0041edca4\" class=\"colab-df-container\">\n",
              "    <div>\n",
              "<style scoped>\n",
              "    .dataframe tbody tr th:only-of-type {\n",
              "        vertical-align: middle;\n",
              "    }\n",
              "\n",
              "    .dataframe tbody tr th {\n",
              "        vertical-align: top;\n",
              "    }\n",
              "\n",
              "    .dataframe thead th {\n",
              "        text-align: right;\n",
              "    }\n",
              "</style>\n",
              "<table border=\"1\" class=\"dataframe\">\n",
              "  <thead>\n",
              "    <tr style=\"text-align: right;\">\n",
              "      <th></th>\n",
              "      <th>bias</th>\n",
              "      <th>x</th>\n",
              "      <th>x1</th>\n",
              "      <th>y</th>\n",
              "    </tr>\n",
              "  </thead>\n",
              "  <tbody>\n",
              "    <tr>\n",
              "      <th>0</th>\n",
              "      <td>1.0</td>\n",
              "      <td>0</td>\n",
              "      <td>-0.00</td>\n",
              "      <td>2.27</td>\n",
              "    </tr>\n",
              "    <tr>\n",
              "      <th>1</th>\n",
              "      <td>1.0</td>\n",
              "      <td>1</td>\n",
              "      <td>-0.03</td>\n",
              "      <td>6.38</td>\n",
              "    </tr>\n",
              "    <tr>\n",
              "      <th>2</th>\n",
              "      <td>1.0</td>\n",
              "      <td>2</td>\n",
              "      <td>-0.05</td>\n",
              "      <td>8.61</td>\n",
              "    </tr>\n",
              "    <tr>\n",
              "      <th>3</th>\n",
              "      <td>1.0</td>\n",
              "      <td>3</td>\n",
              "      <td>-0.08</td>\n",
              "      <td>8.65</td>\n",
              "    </tr>\n",
              "    <tr>\n",
              "      <th>4</th>\n",
              "      <td>1.0</td>\n",
              "      <td>4</td>\n",
              "      <td>-0.11</td>\n",
              "      <td>13.17</td>\n",
              "    </tr>\n",
              "  </tbody>\n",
              "</table>\n",
              "</div>\n",
              "    <div class=\"colab-df-buttons\">\n",
              "\n",
              "  <div class=\"colab-df-container\">\n",
              "    <button class=\"colab-df-convert\" onclick=\"convertToInteractive('df-57ad20cd-38c4-4af9-9856-32b0041edca4')\"\n",
              "            title=\"Convert this dataframe to an interactive table.\"\n",
              "            style=\"display:none;\">\n",
              "\n",
              "  <svg xmlns=\"http://www.w3.org/2000/svg\" height=\"24px\" viewBox=\"0 -960 960 960\">\n",
              "    <path d=\"M120-120v-720h720v720H120Zm60-500h600v-160H180v160Zm220 220h160v-160H400v160Zm0 220h160v-160H400v160ZM180-400h160v-160H180v160Zm440 0h160v-160H620v160ZM180-180h160v-160H180v160Zm440 0h160v-160H620v160Z\"/>\n",
              "  </svg>\n",
              "    </button>\n",
              "\n",
              "  <style>\n",
              "    .colab-df-container {\n",
              "      display:flex;\n",
              "      gap: 12px;\n",
              "    }\n",
              "\n",
              "    .colab-df-convert {\n",
              "      background-color: #E8F0FE;\n",
              "      border: none;\n",
              "      border-radius: 50%;\n",
              "      cursor: pointer;\n",
              "      display: none;\n",
              "      fill: #1967D2;\n",
              "      height: 32px;\n",
              "      padding: 0 0 0 0;\n",
              "      width: 32px;\n",
              "    }\n",
              "\n",
              "    .colab-df-convert:hover {\n",
              "      background-color: #E2EBFA;\n",
              "      box-shadow: 0px 1px 2px rgba(60, 64, 67, 0.3), 0px 1px 3px 1px rgba(60, 64, 67, 0.15);\n",
              "      fill: #174EA6;\n",
              "    }\n",
              "\n",
              "    .colab-df-buttons div {\n",
              "      margin-bottom: 4px;\n",
              "    }\n",
              "\n",
              "    [theme=dark] .colab-df-convert {\n",
              "      background-color: #3B4455;\n",
              "      fill: #D2E3FC;\n",
              "    }\n",
              "\n",
              "    [theme=dark] .colab-df-convert:hover {\n",
              "      background-color: #434B5C;\n",
              "      box-shadow: 0px 1px 3px 1px rgba(0, 0, 0, 0.15);\n",
              "      filter: drop-shadow(0px 1px 2px rgba(0, 0, 0, 0.3));\n",
              "      fill: #FFFFFF;\n",
              "    }\n",
              "  </style>\n",
              "\n",
              "    <script>\n",
              "      const buttonEl =\n",
              "        document.querySelector('#df-57ad20cd-38c4-4af9-9856-32b0041edca4 button.colab-df-convert');\n",
              "      buttonEl.style.display =\n",
              "        google.colab.kernel.accessAllowed ? 'block' : 'none';\n",
              "\n",
              "      async function convertToInteractive(key) {\n",
              "        const element = document.querySelector('#df-57ad20cd-38c4-4af9-9856-32b0041edca4');\n",
              "        const dataTable =\n",
              "          await google.colab.kernel.invokeFunction('convertToInteractive',\n",
              "                                                    [key], {});\n",
              "        if (!dataTable) return;\n",
              "\n",
              "        const docLinkHtml = 'Like what you see? Visit the ' +\n",
              "          '<a target=\"_blank\" href=https://colab.research.google.com/notebooks/data_table.ipynb>data table notebook</a>'\n",
              "          + ' to learn more about interactive tables.';\n",
              "        element.innerHTML = '';\n",
              "        dataTable['output_type'] = 'display_data';\n",
              "        await google.colab.output.renderOutput(dataTable, element);\n",
              "        const docLink = document.createElement('div');\n",
              "        docLink.innerHTML = docLinkHtml;\n",
              "        element.appendChild(docLink);\n",
              "      }\n",
              "    </script>\n",
              "  </div>\n",
              "\n",
              "\n",
              "<div id=\"df-1ce26525-6b46-4074-bd10-ced93399dfe0\">\n",
              "  <button class=\"colab-df-quickchart\" onclick=\"quickchart('df-1ce26525-6b46-4074-bd10-ced93399dfe0')\"\n",
              "            title=\"Suggest charts\"\n",
              "            style=\"display:none;\">\n",
              "\n",
              "<svg xmlns=\"http://www.w3.org/2000/svg\" height=\"24px\"viewBox=\"0 0 24 24\"\n",
              "     width=\"24px\">\n",
              "    <g>\n",
              "        <path d=\"M19 3H5c-1.1 0-2 .9-2 2v14c0 1.1.9 2 2 2h14c1.1 0 2-.9 2-2V5c0-1.1-.9-2-2-2zM9 17H7v-7h2v7zm4 0h-2V7h2v10zm4 0h-2v-4h2v4z\"/>\n",
              "    </g>\n",
              "</svg>\n",
              "  </button>\n",
              "\n",
              "<style>\n",
              "  .colab-df-quickchart {\n",
              "      --bg-color: #E8F0FE;\n",
              "      --fill-color: #1967D2;\n",
              "      --hover-bg-color: #E2EBFA;\n",
              "      --hover-fill-color: #174EA6;\n",
              "      --disabled-fill-color: #AAA;\n",
              "      --disabled-bg-color: #DDD;\n",
              "  }\n",
              "\n",
              "  [theme=dark] .colab-df-quickchart {\n",
              "      --bg-color: #3B4455;\n",
              "      --fill-color: #D2E3FC;\n",
              "      --hover-bg-color: #434B5C;\n",
              "      --hover-fill-color: #FFFFFF;\n",
              "      --disabled-bg-color: #3B4455;\n",
              "      --disabled-fill-color: #666;\n",
              "  }\n",
              "\n",
              "  .colab-df-quickchart {\n",
              "    background-color: var(--bg-color);\n",
              "    border: none;\n",
              "    border-radius: 50%;\n",
              "    cursor: pointer;\n",
              "    display: none;\n",
              "    fill: var(--fill-color);\n",
              "    height: 32px;\n",
              "    padding: 0;\n",
              "    width: 32px;\n",
              "  }\n",
              "\n",
              "  .colab-df-quickchart:hover {\n",
              "    background-color: var(--hover-bg-color);\n",
              "    box-shadow: 0 1px 2px rgba(60, 64, 67, 0.3), 0 1px 3px 1px rgba(60, 64, 67, 0.15);\n",
              "    fill: var(--button-hover-fill-color);\n",
              "  }\n",
              "\n",
              "  .colab-df-quickchart-complete:disabled,\n",
              "  .colab-df-quickchart-complete:disabled:hover {\n",
              "    background-color: var(--disabled-bg-color);\n",
              "    fill: var(--disabled-fill-color);\n",
              "    box-shadow: none;\n",
              "  }\n",
              "\n",
              "  .colab-df-spinner {\n",
              "    border: 2px solid var(--fill-color);\n",
              "    border-color: transparent;\n",
              "    border-bottom-color: var(--fill-color);\n",
              "    animation:\n",
              "      spin 1s steps(1) infinite;\n",
              "  }\n",
              "\n",
              "  @keyframes spin {\n",
              "    0% {\n",
              "      border-color: transparent;\n",
              "      border-bottom-color: var(--fill-color);\n",
              "      border-left-color: var(--fill-color);\n",
              "    }\n",
              "    20% {\n",
              "      border-color: transparent;\n",
              "      border-left-color: var(--fill-color);\n",
              "      border-top-color: var(--fill-color);\n",
              "    }\n",
              "    30% {\n",
              "      border-color: transparent;\n",
              "      border-left-color: var(--fill-color);\n",
              "      border-top-color: var(--fill-color);\n",
              "      border-right-color: var(--fill-color);\n",
              "    }\n",
              "    40% {\n",
              "      border-color: transparent;\n",
              "      border-right-color: var(--fill-color);\n",
              "      border-top-color: var(--fill-color);\n",
              "    }\n",
              "    60% {\n",
              "      border-color: transparent;\n",
              "      border-right-color: var(--fill-color);\n",
              "    }\n",
              "    80% {\n",
              "      border-color: transparent;\n",
              "      border-right-color: var(--fill-color);\n",
              "      border-bottom-color: var(--fill-color);\n",
              "    }\n",
              "    90% {\n",
              "      border-color: transparent;\n",
              "      border-bottom-color: var(--fill-color);\n",
              "    }\n",
              "  }\n",
              "</style>\n",
              "\n",
              "  <script>\n",
              "    async function quickchart(key) {\n",
              "      const quickchartButtonEl =\n",
              "        document.querySelector('#' + key + ' button');\n",
              "      quickchartButtonEl.disabled = true;  // To prevent multiple clicks.\n",
              "      quickchartButtonEl.classList.add('colab-df-spinner');\n",
              "      try {\n",
              "        const charts = await google.colab.kernel.invokeFunction(\n",
              "            'suggestCharts', [key], {});\n",
              "      } catch (error) {\n",
              "        console.error('Error during call to suggestCharts:', error);\n",
              "      }\n",
              "      quickchartButtonEl.classList.remove('colab-df-spinner');\n",
              "      quickchartButtonEl.classList.add('colab-df-quickchart-complete');\n",
              "    }\n",
              "    (() => {\n",
              "      let quickchartButtonEl =\n",
              "        document.querySelector('#df-1ce26525-6b46-4074-bd10-ced93399dfe0 button');\n",
              "      quickchartButtonEl.style.display =\n",
              "        google.colab.kernel.accessAllowed ? 'block' : 'none';\n",
              "    })();\n",
              "  </script>\n",
              "</div>\n",
              "\n",
              "    </div>\n",
              "  </div>\n"
            ],
            "text/plain": [
              "   bias  x    x1      y\n",
              "0   1.0  0 -0.00   2.27\n",
              "1   1.0  1 -0.03   6.38\n",
              "2   1.0  2 -0.05   8.61\n",
              "3   1.0  3 -0.08   8.65\n",
              "4   1.0  4 -0.11  13.17"
            ]
          },
          "execution_count": 100,
          "metadata": {},
          "output_type": "execute_result"
        }
      ],
      "source": [
        "# here we don't need the explicit bias feature column\n",
        "xx = np.array(y21[['x1']])\n",
        "yy = np.expand_dims(y2.y, 1)\n",
        "y21.head()"
      ]
    },
    {
      "cell_type": "code",
      "execution_count": 101,
      "id": "3ed825e1",
      "metadata": {
        "colab": {
          "base_uri": "https://localhost:8080/",
          "height": 599,
          "referenced_widgets": [
            "49e77d613bb94cc7b86960c711381106",
            "4e288f03dad54b02b31989a31907a76b",
            "87c48b02532f44ae8a6ff222b0d83a95",
            "6d2340390a7048eaae53fdd894ac9e2b",
            "1320043f293e44bca063ee3dbc16e211",
            "f16122e860a64b70a6709876167e08a6",
            "39af6bc13df14851a1c60ee344cb6186",
            "612e9232ba67446b87116decd28943ce",
            "586fee60c17842069b756f9edc0a547a",
            "d50249a7ff844893b6b7ad6675ff1c0d",
            "2a880e94c743448f89294dc242824d36"
          ]
        },
        "id": "3ed825e1",
        "outputId": "6593f8f9-9a52-42be-f2e0-6c546a472e27"
      },
      "outputs": [
        {
          "name": "stdout",
          "output_type": "stream",
          "text": [
            "Initial Params: Bias=-0.9046856053195875 M1=0.8578652776463813, M2=1.486413233379558, M3=1\n"
          ]
        },
        {
          "data": {
            "application/vnd.jupyter.widget-view+json": {
              "model_id": "49e77d613bb94cc7b86960c711381106",
              "version_major": 2,
              "version_minor": 0
            },
            "text/plain": [
              "Iterations:   0%|          | 0/15000 [00:00<?, ?it/s]"
            ]
          },
          "metadata": {},
          "output_type": "display_data"
        },
        {
          "name": "stdout",
          "output_type": "stream",
          "text": [
            "Bias =  3.381287834383479  m1 = 0.13307609290079833  m2 = 0.34632715468101527  m3 = 1.7456943095902486\n",
            "Loss = 25746.574041599117\n"
          ]
        },
        {
          "data": {
            "image/png": "[encoded data removed]",
            "text/plain": [
              "<Figure size 1000x500 with 2 Axes>"
            ]
          },
          "metadata": {},
          "output_type": "display_data"
        }
      ],
      "source": [
        "gdmodel = MySinusoidFitViaGD(learning_rate=0.0001, n_iters=15000)\n",
        "# fit the model and estimate the yhat values.\n",
        "history = gdmodel.fit(xx, yy)\n",
        "#get the learned parameters from the model.\n",
        "bias, w1, w2, w3 = gdmodel.parameters\n",
        "print(\"Bias = \", bias, \" m1 =\", w1, \" m2 =\", w2, \" m3 =\", w3)\n",
        "# use the model to predict the yhat values.\n",
        "yhat7 = gdmodel.predict(xx)\n",
        "# estimate the loss again and display\n",
        "loss = SSE(yy, yhat7)\n",
        "print (\"Loss =\", loss)\n",
        "\n",
        "# let's plot the params and loss.\n",
        "a1 = range(len(history))\n",
        "fig, (ax1, ax2) = plt.subplots(2, 1)\n",
        "fig.suptitle('Parameters & Loss')\n",
        "fig.set_figwidth(10)\n",
        "fig.set_figheight(5)\n",
        "\n",
        "ax1.plot(a1, history[:,0])\n",
        "ax1.plot(a1, history[:,1])\n",
        "ax1.plot(a1, history[:,2])\n",
        "ax1.plot(a1, history[:,3])\n",
        "ax1.legend(['Bias', 'm1', 'm2', 'm3'], loc='upper left')\n",
        "\n",
        "ax2.plot(a1, history[:,4])\n",
        "ax2.set_xlabel('Epochs')\n",
        "ax2.legend(['Loss'], loc='upper right')\n",
        "plt.show()"
      ]
    },
    {
      "cell_type": "code",
      "execution_count": 102,
      "id": "472f0fee",
      "metadata": {
        "colab": {
          "base_uri": "https://localhost:8080/",
          "height": 449
        },
        "id": "472f0fee",
        "outputId": "d4ef415e-2f52-42d3-d09f-3d7eafbc0603"
      },
      "outputs": [
        {
          "data": {
            "image/png": "[encoded data removed]",
            "text/plain": [
              "<Figure size 640x480 with 1 Axes>"
            ]
          },
          "metadata": {},
          "output_type": "display_data"
        }
      ],
      "source": [
        "plt.plot(y2.x, y2.y, 'r+')\n",
        "yhat1 = predict(beta, y2.x)\n",
        "plt.plot(y2.x, yhat3, 'b-')\n",
        "plt.plot(y2.x, yhat7, 'g-')\n",
        "plt.ylabel('Spring data')\n",
        "plt.xlabel('Time')\n",
        "plt.legend(['Spring data', 'SinusoidFit+OLS', 'SinusoidFit+GD'], loc='upper left')\n",
        "plt.show()"
      ]
    },
    {
      "cell_type": "markdown",
      "id": "2dszuDH3c487",
      "metadata": {
        "id": "2dszuDH3c487"
      },
      "source": [
        "# Let's Train the model for Interpolation and extrapolation"
      ]
    },
    {
      "cell_type": "code",
      "execution_count": 112,
      "id": "54185ac8",
      "metadata": {
        "colab": {
          "base_uri": "https://localhost:8080/",
          "height": 979
        },
        "id": "54185ac8",
        "outputId": "b22f1e13-dfae-4c52-ca19-68f7cb0304c6"
      },
      "outputs": [
        {
          "name": "stdout",
          "output_type": "stream",
          "text": [
            "Interpolation SSE (Evaluation Set): 4333.582616549734\n",
            "Interpolation SSE (Test Set): 4981.568347662546\n",
            "Extrapolation SSE: 4109.561796357026\n"
          ]
        },
        {
          "data": {
            "image/png": "[encoded data removed]",
            "text/plain": [
              "<Figure size 640x480 with 1 Axes>"
            ]
          },
          "metadata": {},
          "output_type": "display_data"
        },
        {
          "data": {
            "image/png": "[encoded data removed]",
            "text/plain": [
              "<Figure size 640x480 with 1 Axes>"
            ]
          },
          "metadata": {},
          "output_type": "display_data"
        }
      ],
      "source": [
        "import numpy as np\n",
        "from sklearn.linear_model import LinearRegression\n",
        "from sklearn.preprocessing import PolynomialFeatures\n",
        "from sklearn.metrics import mean_squared_error\n",
        "import matplotlib.pyplot as plt\n",
        "from sklearn.model_selection import train_test_split\n",
        "\n",
        "data = np.loadtxt(\"col1.data\")\n",
        "x = np.arange(len(data))\n",
        "y = data\n",
        "\n",
        "x_reshaped = x.reshape(-1, 1)\n",
        "\n",
        "# Feature Transformation\n",
        "degree = 3\n",
        "poly = PolynomialFeatures(degree)\n",
        "x_poly = poly.fit_transform(x_reshaped)\n",
        "\n",
        "# Interpolation Split\n",
        "x_train, x_temp, y_train, y_temp = train_test_split(x_poly, y, test_size=0.4, random_state=42)\n",
        "x_eval, x_test, y_eval, y_test = train_test_split(x_temp, y_temp, test_size=0.5, random_state=42)\n",
        "\n",
        "# Train interpolation model\n",
        "model_interp = LinearRegression(fit_intercept=False)\n",
        "model_interp.fit(x_train, y_train)\n",
        "\n",
        "# Predictionn on evaluation and test sets\n",
        "y_pred_eval = model_interp.predict(x_eval)\n",
        "y_pred_test = model_interp.predict(x_test)\n",
        "\n",
        "# Compute SSE for interpolation\n",
        "sse_eval = np.sum((y_eval - y_pred_eval) ** 2)\n",
        "sse_test = np.sum((y_test - y_pred_test) ** 2)\n",
        "\n",
        "# Extrapolation Split\n",
        "split_idx = int(len(x_poly) * 0.7)\n",
        "x_train_extrap = x_poly[:split_idx]\n",
        "y_train_extrap = y[:split_idx]\n",
        "x_test_extrap = x_poly[split_idx:]\n",
        "y_test_extrap = y[split_idx:]\n",
        "\n",
        "# Train extrapolation model\n",
        "model_extrap = LinearRegression(fit_intercept=False)\n",
        "model_extrap.fit(x_train_extrap, y_train_extrap)\n",
        "\n",
        "# Predict on the test set (extrapolation)\n",
        "y_pred_test_extrap = model_extrap.predict(x_test_extrap)\n",
        "\n",
        "# Compute SSE for extrapolation\n",
        "sse_extrapolation = np.sum((y_test_extrap - y_pred_test_extrap) ** 2)\n",
        "\n",
        "print(f\"Interpolation SSE (Evaluation Set): {sse_eval}\")\n",
        "print(f\"Interpolation SSE (Test Set): {sse_test}\")\n",
        "print(f\"Extrapolation SSE: {sse_extrapolation}\")\n",
        "\n",
        "# Plot for Interpolation\n",
        "plt.scatter(x, y, color='blue', label='Data points')\n",
        "plt.plot(x, model_interp.predict(x_poly), color='red', label=f'Interpolation Line (Degree = {degree})')\n",
        "plt.xlabel('x (Time)')\n",
        "plt.ylabel('y (Data)')\n",
        "plt.title('Interpolation of Data and Poly Fit')\n",
        "plt.legend()\n",
        "plt.grid(True)\n",
        "plt.show()\n",
        "\n",
        "# Plot for Extrapolation\n",
        "plt.scatter(x, y, color='blue', label='Data points')\n",
        "plt.plot(x, model_extrap.predict(x_poly), color='green', label=f'Extrapolation Line (Degree = {degree})')\n",
        "plt.xlabel('x (Time)')\n",
        "plt.ylabel('y (Data)')\n",
        "plt.title('Extrapolation ofData and Poly Fit')\n",
        "plt.legend()\n",
        "plt.grid(True)\n",
        "plt.show()\n"
      ]
    },
    {
      "cell_type": "markdown",
      "id": "2E6Ajs34nIUb",
      "metadata": {
        "id": "2E6Ajs34nIUb"
      },
      "source": [
        "# References:\n",
        "\n",
        "1. Numpy\n",
        "2. Matplotlib\n",
        "3. Github Solutions\n",
        "4. GeeksForGeeks\n",
        "5. Sklearn\n",
        "6. stackoverflow"
      ]
    },
    {
      "cell_type": "code",
      "execution_count": null,
      "id": "iDj_OgL-cD2j",
      "metadata": {
        "id": "iDj_OgL-cD2j"
      },
      "outputs": [],
      "source": []
    }
  ],
  "metadata": {
    "colab": {
      "provenance": []
    },
    "kernelspec": {
      "display_name": "Python 3 (ipykernel)",
      "language": "python",
      "name": "python3"
    },
    "language_info": {
      "codemirror_mode": {
        "name": "ipython",
        "version": 3
      },
      "file_extension": ".py",
      "mimetype": "text/x-python",
      "name": "python",
      "nbconvert_exporter": "python",
      "pygments_lexer": "ipython3",
      "version": "3.8.18"
    },
    "varInspector": {
      "cols": {
        "lenName": 16,
        "lenType": 16,
        "lenVar": 40
      },
      "kernels_config": {
        "python": {
          "delete_cmd_postfix": "",
          "delete_cmd_prefix": "del ",
          "library": "var_list.py",
          "varRefreshCmd": "print(var_dic_list())"
        },
        "r": {
          "delete_cmd_postfix": ") ",
          "delete_cmd_prefix": "rm(",
          "library": "var_list.r",
          "varRefreshCmd": "cat(var_dic_list()) "
        }
      },
      "types_to_exclude": [
        "module",
        "function",
        "builtin_function_or_method",
        "instance",
        "_Feature"
      ],
      "window_display": false
    },
    "widgets": {
      "application/vnd.jupyter.widget-state+json": {
        "09bf4d03eace42beb72a546439ff98d2": {
          "model_module": "@jupyter-widgets/base",
          "model_module_version": "1.2.0",
          "model_name": "LayoutModel",
          "state": {
            "_model_module": "@jupyter-widgets/base",
            "_model_module_version": "1.2.0",
            "_model_name": "LayoutModel",
            "_view_count": null,
            "_view_module": "@jupyter-widgets/base",
            "_view_module_version": "1.2.0",
            "_view_name": "LayoutView",
            "align_content": null,
            "align_items": null,
            "align_self": null,
            "border": null,
            "bottom": null,
            "display": null,
            "flex": null,
            "flex_flow": null,
            "grid_area": null,
            "grid_auto_columns": null,
            "grid_auto_flow": null,
            "grid_auto_rows": null,
            "grid_column": null,
            "grid_gap": null,
            "grid_row": null,
            "grid_template_areas": null,
            "grid_template_columns": null,
            "grid_template_rows": null,
            "height": null,
            "justify_content": null,
            "justify_items": null,
            "left": null,
            "margin": null,
            "max_height": null,
            "max_width": null,
            "min_height": null,
            "min_width": null,
            "object_fit": null,
            "object_position": null,
            "order": null,
            "overflow": null,
            "overflow_x": null,
            "overflow_y": null,
            "padding": null,
            "right": null,
            "top": null,
            "visibility": null,
            "width": null
          }
        },
        "1320043f293e44bca063ee3dbc16e211": {
          "model_module": "@jupyter-widgets/base",
          "model_module_version": "1.2.0",
          "model_name": "LayoutModel",
          "state": {
            "_model_module": "@jupyter-widgets/base",
            "_model_module_version": "1.2.0",
            "_model_name": "LayoutModel",
            "_view_count": null,
            "_view_module": "@jupyter-widgets/base",
            "_view_module_version": "1.2.0",
            "_view_name": "LayoutView",
            "align_content": null,
            "align_items": null,
            "align_self": null,
            "border": null,
            "bottom": null,
            "display": null,
            "flex": null,
            "flex_flow": null,
            "grid_area": null,
            "grid_auto_columns": null,
            "grid_auto_flow": null,
            "grid_auto_rows": null,
            "grid_column": null,
            "grid_gap": null,
            "grid_row": null,
            "grid_template_areas": null,
            "grid_template_columns": null,
            "grid_template_rows": null,
            "height": null,
            "justify_content": null,
            "justify_items": null,
            "left": null,
            "margin": null,
            "max_height": null,
            "max_width": null,
            "min_height": null,
            "min_width": null,
            "object_fit": null,
            "object_position": null,
            "order": null,
            "overflow": null,
            "overflow_x": null,
            "overflow_y": null,
            "padding": null,
            "right": null,
            "top": null,
            "visibility": null,
            "width": null
          }
        },
        "198395093d8747819cb5b8c535f7b395": {
          "model_module": "@jupyter-widgets/controls",
          "model_module_version": "1.5.0",
          "model_name": "DescriptionStyleModel",
          "state": {
            "_model_module": "@jupyter-widgets/controls",
            "_model_module_version": "1.5.0",
            "_model_name": "DescriptionStyleModel",
            "_view_count": null,
            "_view_module": "@jupyter-widgets/base",
            "_view_module_version": "1.2.0",
            "_view_name": "StyleView",
            "description_width": ""
          }
        },
        "22b1a158ca81430ba489d78f628dc656": {
          "model_module": "@jupyter-widgets/controls",
          "model_module_version": "1.5.0",
          "model_name": "HBoxModel",
          "state": {
            "_dom_classes": [],
            "_model_module": "@jupyter-widgets/controls",
            "_model_module_version": "1.5.0",
            "_model_name": "HBoxModel",
            "_view_count": null,
            "_view_module": "@jupyter-widgets/controls",
            "_view_module_version": "1.5.0",
            "_view_name": "HBoxView",
            "box_style": "",
            "children": [
              "IPY_MODEL_32f22bcb0c5448f6bc5d72a6c16654bd",
              "IPY_MODEL_a0a34b585e684ec081698ea3759a1865",
              "IPY_MODEL_28033796d711436d89dff085324942ed"
            ],
            "layout": "IPY_MODEL_ca4706a7748b4d5e86cf11fe20e735a4"
          }
        },
        "28033796d711436d89dff085324942ed": {
          "model_module": "@jupyter-widgets/controls",
          "model_module_version": "1.5.0",
          "model_name": "HTMLModel",
          "state": {
            "_dom_classes": [],
            "_model_module": "@jupyter-widgets/controls",
            "_model_module_version": "1.5.0",
            "_model_name": "HTMLModel",
            "_view_count": null,
            "_view_module": "@jupyter-widgets/controls",
            "_view_module_version": "1.5.0",
            "_view_name": "HTMLView",
            "description": "",
            "description_tooltip": null,
            "layout": "IPY_MODEL_a9a36dbc65a44226a152ad3dea303e83",
            "placeholder": "​",
            "style": "IPY_MODEL_2cc425969e5140ef8082c2668773b9b3",
            "value": " 5000/5000 [00:01&lt;00:00, 5306.34it/s, Loss=2.82e+4]"
          }
        },
        "2a880e94c743448f89294dc242824d36": {
          "model_module": "@jupyter-widgets/controls",
          "model_module_version": "1.5.0",
          "model_name": "DescriptionStyleModel",
          "state": {
            "_model_module": "@jupyter-widgets/controls",
            "_model_module_version": "1.5.0",
            "_model_name": "DescriptionStyleModel",
            "_view_count": null,
            "_view_module": "@jupyter-widgets/base",
            "_view_module_version": "1.2.0",
            "_view_name": "StyleView",
            "description_width": ""
          }
        },
        "2cc425969e5140ef8082c2668773b9b3": {
          "model_module": "@jupyter-widgets/controls",
          "model_module_version": "1.5.0",
          "model_name": "DescriptionStyleModel",
          "state": {
            "_model_module": "@jupyter-widgets/controls",
            "_model_module_version": "1.5.0",
            "_model_name": "DescriptionStyleModel",
            "_view_count": null,
            "_view_module": "@jupyter-widgets/base",
            "_view_module_version": "1.2.0",
            "_view_name": "StyleView",
            "description_width": ""
          }
        },
        "32f22bcb0c5448f6bc5d72a6c16654bd": {
          "model_module": "@jupyter-widgets/controls",
          "model_module_version": "1.5.0",
          "model_name": "HTMLModel",
          "state": {
            "_dom_classes": [],
            "_model_module": "@jupyter-widgets/controls",
            "_model_module_version": "1.5.0",
            "_model_name": "HTMLModel",
            "_view_count": null,
            "_view_module": "@jupyter-widgets/controls",
            "_view_module_version": "1.5.0",
            "_view_name": "HTMLView",
            "description": "",
            "description_tooltip": null,
            "layout": "IPY_MODEL_36f1282f375c4ce69e73287175df4ec8",
            "placeholder": "​",
            "style": "IPY_MODEL_198395093d8747819cb5b8c535f7b395",
            "value": "Iterations: 100%"
          }
        },
        "36f1282f375c4ce69e73287175df4ec8": {
          "model_module": "@jupyter-widgets/base",
          "model_module_version": "1.2.0",
          "model_name": "LayoutModel",
          "state": {
            "_model_module": "@jupyter-widgets/base",
            "_model_module_version": "1.2.0",
            "_model_name": "LayoutModel",
            "_view_count": null,
            "_view_module": "@jupyter-widgets/base",
            "_view_module_version": "1.2.0",
            "_view_name": "LayoutView",
            "align_content": null,
            "align_items": null,
            "align_self": null,
            "border": null,
            "bottom": null,
            "display": null,
            "flex": null,
            "flex_flow": null,
            "grid_area": null,
            "grid_auto_columns": null,
            "grid_auto_flow": null,
            "grid_auto_rows": null,
            "grid_column": null,
            "grid_gap": null,
            "grid_row": null,
            "grid_template_areas": null,
            "grid_template_columns": null,
            "grid_template_rows": null,
            "height": null,
            "justify_content": null,
            "justify_items": null,
            "left": null,
            "margin": null,
            "max_height": null,
            "max_width": null,
            "min_height": null,
            "min_width": null,
            "object_fit": null,
            "object_position": null,
            "order": null,
            "overflow": null,
            "overflow_x": null,
            "overflow_y": null,
            "padding": null,
            "right": null,
            "top": null,
            "visibility": null,
            "width": null
          }
        },
        "39af6bc13df14851a1c60ee344cb6186": {
          "model_module": "@jupyter-widgets/controls",
          "model_module_version": "1.5.0",
          "model_name": "DescriptionStyleModel",
          "state": {
            "_model_module": "@jupyter-widgets/controls",
            "_model_module_version": "1.5.0",
            "_model_name": "DescriptionStyleModel",
            "_view_count": null,
            "_view_module": "@jupyter-widgets/base",
            "_view_module_version": "1.2.0",
            "_view_name": "StyleView",
            "description_width": ""
          }
        },
        "49e77d613bb94cc7b86960c711381106": {
          "model_module": "@jupyter-widgets/controls",
          "model_module_version": "1.5.0",
          "model_name": "HBoxModel",
          "state": {
            "_dom_classes": [],
            "_model_module": "@jupyter-widgets/controls",
            "_model_module_version": "1.5.0",
            "_model_name": "HBoxModel",
            "_view_count": null,
            "_view_module": "@jupyter-widgets/controls",
            "_view_module_version": "1.5.0",
            "_view_name": "HBoxView",
            "box_style": "",
            "children": [
              "IPY_MODEL_4e288f03dad54b02b31989a31907a76b",
              "IPY_MODEL_87c48b02532f44ae8a6ff222b0d83a95",
              "IPY_MODEL_6d2340390a7048eaae53fdd894ac9e2b"
            ],
            "layout": "IPY_MODEL_1320043f293e44bca063ee3dbc16e211"
          }
        },
        "4e288f03dad54b02b31989a31907a76b": {
          "model_module": "@jupyter-widgets/controls",
          "model_module_version": "1.5.0",
          "model_name": "HTMLModel",
          "state": {
            "_dom_classes": [],
            "_model_module": "@jupyter-widgets/controls",
            "_model_module_version": "1.5.0",
            "_model_name": "HTMLModel",
            "_view_count": null,
            "_view_module": "@jupyter-widgets/controls",
            "_view_module_version": "1.5.0",
            "_view_name": "HTMLView",
            "description": "",
            "description_tooltip": null,
            "layout": "IPY_MODEL_f16122e860a64b70a6709876167e08a6",
            "placeholder": "​",
            "style": "IPY_MODEL_39af6bc13df14851a1c60ee344cb6186",
            "value": "Iterations: 100%"
          }
        },
        "586fee60c17842069b756f9edc0a547a": {
          "model_module": "@jupyter-widgets/controls",
          "model_module_version": "1.5.0",
          "model_name": "ProgressStyleModel",
          "state": {
            "_model_module": "@jupyter-widgets/controls",
            "_model_module_version": "1.5.0",
            "_model_name": "ProgressStyleModel",
            "_view_count": null,
            "_view_module": "@jupyter-widgets/base",
            "_view_module_version": "1.2.0",
            "_view_name": "StyleView",
            "bar_color": null,
            "description_width": ""
          }
        },
        "612e9232ba67446b87116decd28943ce": {
          "model_module": "@jupyter-widgets/base",
          "model_module_version": "1.2.0",
          "model_name": "LayoutModel",
          "state": {
            "_model_module": "@jupyter-widgets/base",
            "_model_module_version": "1.2.0",
            "_model_name": "LayoutModel",
            "_view_count": null,
            "_view_module": "@jupyter-widgets/base",
            "_view_module_version": "1.2.0",
            "_view_name": "LayoutView",
            "align_content": null,
            "align_items": null,
            "align_self": null,
            "border": null,
            "bottom": null,
            "display": null,
            "flex": null,
            "flex_flow": null,
            "grid_area": null,
            "grid_auto_columns": null,
            "grid_auto_flow": null,
            "grid_auto_rows": null,
            "grid_column": null,
            "grid_gap": null,
            "grid_row": null,
            "grid_template_areas": null,
            "grid_template_columns": null,
            "grid_template_rows": null,
            "height": null,
            "justify_content": null,
            "justify_items": null,
            "left": null,
            "margin": null,
            "max_height": null,
            "max_width": null,
            "min_height": null,
            "min_width": null,
            "object_fit": null,
            "object_position": null,
            "order": null,
            "overflow": null,
            "overflow_x": null,
            "overflow_y": null,
            "padding": null,
            "right": null,
            "top": null,
            "visibility": null,
            "width": null
          }
        },
        "6d2340390a7048eaae53fdd894ac9e2b": {
          "model_module": "@jupyter-widgets/controls",
          "model_module_version": "1.5.0",
          "model_name": "HTMLModel",
          "state": {
            "_dom_classes": [],
            "_model_module": "@jupyter-widgets/controls",
            "_model_module_version": "1.5.0",
            "_model_name": "HTMLModel",
            "_view_count": null,
            "_view_module": "@jupyter-widgets/controls",
            "_view_module_version": "1.5.0",
            "_view_name": "HTMLView",
            "description": "",
            "description_tooltip": null,
            "layout": "IPY_MODEL_d50249a7ff844893b6b7ad6675ff1c0d",
            "placeholder": "​",
            "style": "IPY_MODEL_2a880e94c743448f89294dc242824d36",
            "value": " 15000/15000 [00:03&lt;00:00, 4902.18it/s, Loss=2.57e+4]"
          }
        },
        "87c48b02532f44ae8a6ff222b0d83a95": {
          "model_module": "@jupyter-widgets/controls",
          "model_module_version": "1.5.0",
          "model_name": "FloatProgressModel",
          "state": {
            "_dom_classes": [],
            "_model_module": "@jupyter-widgets/controls",
            "_model_module_version": "1.5.0",
            "_model_name": "FloatProgressModel",
            "_view_count": null,
            "_view_module": "@jupyter-widgets/controls",
            "_view_module_version": "1.5.0",
            "_view_name": "ProgressView",
            "bar_style": "success",
            "description": "",
            "description_tooltip": null,
            "layout": "IPY_MODEL_612e9232ba67446b87116decd28943ce",
            "max": 15000,
            "min": 0,
            "orientation": "horizontal",
            "style": "IPY_MODEL_586fee60c17842069b756f9edc0a547a",
            "value": 15000
          }
        },
        "8dd02f3949b04c27908d08547961404a": {
          "model_module": "@jupyter-widgets/controls",
          "model_module_version": "1.5.0",
          "model_name": "ProgressStyleModel",
          "state": {
            "_model_module": "@jupyter-widgets/controls",
            "_model_module_version": "1.5.0",
            "_model_name": "ProgressStyleModel",
            "_view_count": null,
            "_view_module": "@jupyter-widgets/base",
            "_view_module_version": "1.2.0",
            "_view_name": "StyleView",
            "bar_color": null,
            "description_width": ""
          }
        },
        "a0a34b585e684ec081698ea3759a1865": {
          "model_module": "@jupyter-widgets/controls",
          "model_module_version": "1.5.0",
          "model_name": "FloatProgressModel",
          "state": {
            "_dom_classes": [],
            "_model_module": "@jupyter-widgets/controls",
            "_model_module_version": "1.5.0",
            "_model_name": "FloatProgressModel",
            "_view_count": null,
            "_view_module": "@jupyter-widgets/controls",
            "_view_module_version": "1.5.0",
            "_view_name": "ProgressView",
            "bar_style": "success",
            "description": "",
            "description_tooltip": null,
            "layout": "IPY_MODEL_09bf4d03eace42beb72a546439ff98d2",
            "max": 5000,
            "min": 0,
            "orientation": "horizontal",
            "style": "IPY_MODEL_8dd02f3949b04c27908d08547961404a",
            "value": 5000
          }
        },
        "a9a36dbc65a44226a152ad3dea303e83": {
          "model_module": "@jupyter-widgets/base",
          "model_module_version": "1.2.0",
          "model_name": "LayoutModel",
          "state": {
            "_model_module": "@jupyter-widgets/base",
            "_model_module_version": "1.2.0",
            "_model_name": "LayoutModel",
            "_view_count": null,
            "_view_module": "@jupyter-widgets/base",
            "_view_module_version": "1.2.0",
            "_view_name": "LayoutView",
            "align_content": null,
            "align_items": null,
            "align_self": null,
            "border": null,
            "bottom": null,
            "display": null,
            "flex": null,
            "flex_flow": null,
            "grid_area": null,
            "grid_auto_columns": null,
            "grid_auto_flow": null,
            "grid_auto_rows": null,
            "grid_column": null,
            "grid_gap": null,
            "grid_row": null,
            "grid_template_areas": null,
            "grid_template_columns": null,
            "grid_template_rows": null,
            "height": null,
            "justify_content": null,
            "justify_items": null,
            "left": null,
            "margin": null,
            "max_height": null,
            "max_width": null,
            "min_height": null,
            "min_width": null,
            "object_fit": null,
            "object_position": null,
            "order": null,
            "overflow": null,
            "overflow_x": null,
            "overflow_y": null,
            "padding": null,
            "right": null,
            "top": null,
            "visibility": null,
            "width": null
          }
        },
        "ca4706a7748b4d5e86cf11fe20e735a4": {
          "model_module": "@jupyter-widgets/base",
          "model_module_version": "1.2.0",
          "model_name": "LayoutModel",
          "state": {
            "_model_module": "@jupyter-widgets/base",
            "_model_module_version": "1.2.0",
            "_model_name": "LayoutModel",
            "_view_count": null,
            "_view_module": "@jupyter-widgets/base",
            "_view_module_version": "1.2.0",
            "_view_name": "LayoutView",
            "align_content": null,
            "align_items": null,
            "align_self": null,
            "border": null,
            "bottom": null,
            "display": null,
            "flex": null,
            "flex_flow": null,
            "grid_area": null,
            "grid_auto_columns": null,
            "grid_auto_flow": null,
            "grid_auto_rows": null,
            "grid_column": null,
            "grid_gap": null,
            "grid_row": null,
            "grid_template_areas": null,
            "grid_template_columns": null,
            "grid_template_rows": null,
            "height": null,
            "justify_content": null,
            "justify_items": null,
            "left": null,
            "margin": null,
            "max_height": null,
            "max_width": null,
            "min_height": null,
            "min_width": null,
            "object_fit": null,
            "object_position": null,
            "order": null,
            "overflow": null,
            "overflow_x": null,
            "overflow_y": null,
            "padding": null,
            "right": null,
            "top": null,
            "visibility": null,
            "width": null
          }
        },
        "d50249a7ff844893b6b7ad6675ff1c0d": {
          "model_module": "@jupyter-widgets/base",
          "model_module_version": "1.2.0",
          "model_name": "LayoutModel",
          "state": {
            "_model_module": "@jupyter-widgets/base",
            "_model_module_version": "1.2.0",
            "_model_name": "LayoutModel",
            "_view_count": null,
            "_view_module": "@jupyter-widgets/base",
            "_view_module_version": "1.2.0",
            "_view_name": "LayoutView",
            "align_content": null,
            "align_items": null,
            "align_self": null,
            "border": null,
            "bottom": null,
            "display": null,
            "flex": null,
            "flex_flow": null,
            "grid_area": null,
            "grid_auto_columns": null,
            "grid_auto_flow": null,
            "grid_auto_rows": null,
            "grid_column": null,
            "grid_gap": null,
            "grid_row": null,
            "grid_template_areas": null,
            "grid_template_columns": null,
            "grid_template_rows": null,
            "height": null,
            "justify_content": null,
            "justify_items": null,
            "left": null,
            "margin": null,
            "max_height": null,
            "max_width": null,
            "min_height": null,
            "min_width": null,
            "object_fit": null,
            "object_position": null,
            "order": null,
            "overflow": null,
            "overflow_x": null,
            "overflow_y": null,
            "padding": null,
            "right": null,
            "top": null,
            "visibility": null,
            "width": null
          }
        },
        "f16122e860a64b70a6709876167e08a6": {
          "model_module": "@jupyter-widgets/base",
          "model_module_version": "1.2.0",
          "model_name": "LayoutModel",
          "state": {
            "_model_module": "@jupyter-widgets/base",
            "_model_module_version": "1.2.0",
            "_model_name": "LayoutModel",
            "_view_count": null,
            "_view_module": "@jupyter-widgets/base",
            "_view_module_version": "1.2.0",
            "_view_name": "LayoutView",
            "align_content": null,
            "align_items": null,
            "align_self": null,
            "border": null,
            "bottom": null,
            "display": null,
            "flex": null,
            "flex_flow": null,
            "grid_area": null,
            "grid_auto_columns": null,
            "grid_auto_flow": null,
            "grid_auto_rows": null,
            "grid_column": null,
            "grid_gap": null,
            "grid_row": null,
            "grid_template_areas": null,
            "grid_template_columns": null,
            "grid_template_rows": null,
            "height": null,
            "justify_content": null,
            "justify_items": null,
            "left": null,
            "margin": null,
            "max_height": null,
            "max_width": null,
            "min_height": null,
            "min_width": null,
            "object_fit": null,
            "object_position": null,
            "order": null,
            "overflow": null,
            "overflow_x": null,
            "overflow_y": null,
            "padding": null,
            "right": null,
            "top": null,
            "visibility": null,
            "width": null
          }
        }
      }
    }
  },
  "nbformat": 4,
  "nbformat_minor": 5
}
